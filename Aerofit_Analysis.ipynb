{
 "cells": [
  {
   "cell_type": "markdown",
   "id": "307c106c",
   "metadata": {},
   "source": [
    "# Aerofit Treadmill "
   ]
  },
  {
   "cell_type": "markdown",
   "id": "1f9a089b",
   "metadata": {},
   "source": [
    "Aerofit is a leading brand in the field of fitness equipment. Aerofit provides a product range including machines such as treadmills, exercise bikes, gym equipment, and fitness accessories to cater to the needs of all categories of people."
   ]
  },
  {
   "cell_type": "markdown",
   "id": "0d0ff59b",
   "metadata": {},
   "source": [
    "## Business Problem\n",
    "\n",
    "1.The market research team at AeroFit wants to identify the characteristics of the target audience for each type of treadmill offered by the company, to provide a better recommendation of the treadmills to the new customers. The team decides to investigate whether there are differences across the product with respect to customer characteristics.\n",
    "\n",
    "2.Perform descriptive analytics to create a customer profile for each AeroFit treadmill product by developing appropriate tables and charts.For each AeroFit treadmill product, construct two-way contingency tables and compute all conditional and marginal probabilities along with their insights/impact on the business."
   ]
  },
  {
   "cell_type": "markdown",
   "id": "2a6c0fe2",
   "metadata": {},
   "source": [
    "### Accessing the modules"
   ]
  },
  {
   "cell_type": "code",
   "execution_count": 108,
   "id": "970ffe57",
   "metadata": {},
   "outputs": [],
   "source": [
    "# import required modules for the analysis.\n",
    "\n",
    "import numpy as np\n",
    "import pandas as pd\n",
    "import matplotlib.pyplot as plt\n",
    "import seaborn as sns"
   ]
  },
  {
   "cell_type": "markdown",
   "id": "48386e21",
   "metadata": {},
   "source": [
    "### Load the Dataset\n",
    "\n",
    "To Load the Dataset, we have to use the Pandas function  **pd.read_csv()**  and  **head()**  will the show the dataset (First Five records)."
   ]
  },
  {
   "cell_type": "code",
   "execution_count": 109,
   "id": "5742f4c3",
   "metadata": {},
   "outputs": [
    {
     "data": {
      "text/html": [
       "<div>\n",
       "<style scoped>\n",
       "    .dataframe tbody tr th:only-of-type {\n",
       "        vertical-align: middle;\n",
       "    }\n",
       "\n",
       "    .dataframe tbody tr th {\n",
       "        vertical-align: top;\n",
       "    }\n",
       "\n",
       "    .dataframe thead th {\n",
       "        text-align: right;\n",
       "    }\n",
       "</style>\n",
       "<table border=\"1\" class=\"dataframe\">\n",
       "  <thead>\n",
       "    <tr style=\"text-align: right;\">\n",
       "      <th></th>\n",
       "      <th>Product</th>\n",
       "      <th>Age</th>\n",
       "      <th>Gender</th>\n",
       "      <th>Education</th>\n",
       "      <th>MaritalStatus</th>\n",
       "      <th>Usage</th>\n",
       "      <th>Fitness</th>\n",
       "      <th>Income</th>\n",
       "      <th>Miles</th>\n",
       "    </tr>\n",
       "  </thead>\n",
       "  <tbody>\n",
       "    <tr>\n",
       "      <th>0</th>\n",
       "      <td>KP281</td>\n",
       "      <td>18</td>\n",
       "      <td>Male</td>\n",
       "      <td>14</td>\n",
       "      <td>Single</td>\n",
       "      <td>3</td>\n",
       "      <td>4</td>\n",
       "      <td>29562</td>\n",
       "      <td>112</td>\n",
       "    </tr>\n",
       "    <tr>\n",
       "      <th>1</th>\n",
       "      <td>KP281</td>\n",
       "      <td>19</td>\n",
       "      <td>Male</td>\n",
       "      <td>15</td>\n",
       "      <td>Single</td>\n",
       "      <td>2</td>\n",
       "      <td>3</td>\n",
       "      <td>31836</td>\n",
       "      <td>75</td>\n",
       "    </tr>\n",
       "    <tr>\n",
       "      <th>2</th>\n",
       "      <td>KP281</td>\n",
       "      <td>19</td>\n",
       "      <td>Female</td>\n",
       "      <td>14</td>\n",
       "      <td>Partnered</td>\n",
       "      <td>4</td>\n",
       "      <td>3</td>\n",
       "      <td>30699</td>\n",
       "      <td>66</td>\n",
       "    </tr>\n",
       "    <tr>\n",
       "      <th>3</th>\n",
       "      <td>KP281</td>\n",
       "      <td>19</td>\n",
       "      <td>Male</td>\n",
       "      <td>12</td>\n",
       "      <td>Single</td>\n",
       "      <td>3</td>\n",
       "      <td>3</td>\n",
       "      <td>32973</td>\n",
       "      <td>85</td>\n",
       "    </tr>\n",
       "    <tr>\n",
       "      <th>4</th>\n",
       "      <td>KP281</td>\n",
       "      <td>20</td>\n",
       "      <td>Male</td>\n",
       "      <td>13</td>\n",
       "      <td>Partnered</td>\n",
       "      <td>4</td>\n",
       "      <td>2</td>\n",
       "      <td>35247</td>\n",
       "      <td>47</td>\n",
       "    </tr>\n",
       "  </tbody>\n",
       "</table>\n",
       "</div>"
      ],
      "text/plain": [
       "  Product  Age  Gender  Education MaritalStatus  Usage  Fitness  Income  Miles\n",
       "0   KP281   18    Male         14        Single      3        4   29562    112\n",
       "1   KP281   19    Male         15        Single      2        3   31836     75\n",
       "2   KP281   19  Female         14     Partnered      4        3   30699     66\n",
       "3   KP281   19    Male         12        Single      3        3   32973     85\n",
       "4   KP281   20    Male         13     Partnered      4        2   35247     47"
      ]
     },
     "execution_count": 109,
     "metadata": {},
     "output_type": "execute_result"
    }
   ],
   "source": [
    "aerofit = pd.read_csv(\"aerofit_treadmill.csv\")\n",
    "aerofit.head()"
   ]
  },
  {
   "cell_type": "markdown",
   "id": "caae2318",
   "metadata": {},
   "source": [
    "### Reference\n",
    "\n",
    "For the reference we will add the Selling Price column for the corresponding Products."
   ]
  },
  {
   "cell_type": "code",
   "execution_count": 110,
   "id": "8c14143f",
   "metadata": {},
   "outputs": [],
   "source": [
    "def map_the_price(product):\n",
    "    \n",
    "    if product == \"KP281\":\n",
    "        return 1500\n",
    "    elif product == \"KP781\":\n",
    "        return 2500\n",
    "    else:\n",
    "        return 1750"
   ]
  },
  {
   "cell_type": "code",
   "execution_count": 111,
   "id": "af368d27",
   "metadata": {},
   "outputs": [
    {
     "data": {
      "text/html": [
       "<div>\n",
       "<style scoped>\n",
       "    .dataframe tbody tr th:only-of-type {\n",
       "        vertical-align: middle;\n",
       "    }\n",
       "\n",
       "    .dataframe tbody tr th {\n",
       "        vertical-align: top;\n",
       "    }\n",
       "\n",
       "    .dataframe thead th {\n",
       "        text-align: right;\n",
       "    }\n",
       "</style>\n",
       "<table border=\"1\" class=\"dataframe\">\n",
       "  <thead>\n",
       "    <tr style=\"text-align: right;\">\n",
       "      <th></th>\n",
       "      <th>Product</th>\n",
       "      <th>Age</th>\n",
       "      <th>Gender</th>\n",
       "      <th>Education</th>\n",
       "      <th>MaritalStatus</th>\n",
       "      <th>Usage</th>\n",
       "      <th>Fitness</th>\n",
       "      <th>Income</th>\n",
       "      <th>Miles</th>\n",
       "      <th>Selling_Price</th>\n",
       "    </tr>\n",
       "  </thead>\n",
       "  <tbody>\n",
       "    <tr>\n",
       "      <th>0</th>\n",
       "      <td>KP281</td>\n",
       "      <td>18</td>\n",
       "      <td>Male</td>\n",
       "      <td>14</td>\n",
       "      <td>Single</td>\n",
       "      <td>3</td>\n",
       "      <td>4</td>\n",
       "      <td>29562</td>\n",
       "      <td>112</td>\n",
       "      <td>1500</td>\n",
       "    </tr>\n",
       "    <tr>\n",
       "      <th>1</th>\n",
       "      <td>KP281</td>\n",
       "      <td>19</td>\n",
       "      <td>Male</td>\n",
       "      <td>15</td>\n",
       "      <td>Single</td>\n",
       "      <td>2</td>\n",
       "      <td>3</td>\n",
       "      <td>31836</td>\n",
       "      <td>75</td>\n",
       "      <td>1500</td>\n",
       "    </tr>\n",
       "    <tr>\n",
       "      <th>2</th>\n",
       "      <td>KP281</td>\n",
       "      <td>19</td>\n",
       "      <td>Female</td>\n",
       "      <td>14</td>\n",
       "      <td>Partnered</td>\n",
       "      <td>4</td>\n",
       "      <td>3</td>\n",
       "      <td>30699</td>\n",
       "      <td>66</td>\n",
       "      <td>1500</td>\n",
       "    </tr>\n",
       "    <tr>\n",
       "      <th>3</th>\n",
       "      <td>KP281</td>\n",
       "      <td>19</td>\n",
       "      <td>Male</td>\n",
       "      <td>12</td>\n",
       "      <td>Single</td>\n",
       "      <td>3</td>\n",
       "      <td>3</td>\n",
       "      <td>32973</td>\n",
       "      <td>85</td>\n",
       "      <td>1500</td>\n",
       "    </tr>\n",
       "    <tr>\n",
       "      <th>4</th>\n",
       "      <td>KP281</td>\n",
       "      <td>20</td>\n",
       "      <td>Male</td>\n",
       "      <td>13</td>\n",
       "      <td>Partnered</td>\n",
       "      <td>4</td>\n",
       "      <td>2</td>\n",
       "      <td>35247</td>\n",
       "      <td>47</td>\n",
       "      <td>1500</td>\n",
       "    </tr>\n",
       "    <tr>\n",
       "      <th>...</th>\n",
       "      <td>...</td>\n",
       "      <td>...</td>\n",
       "      <td>...</td>\n",
       "      <td>...</td>\n",
       "      <td>...</td>\n",
       "      <td>...</td>\n",
       "      <td>...</td>\n",
       "      <td>...</td>\n",
       "      <td>...</td>\n",
       "      <td>...</td>\n",
       "    </tr>\n",
       "    <tr>\n",
       "      <th>175</th>\n",
       "      <td>KP781</td>\n",
       "      <td>40</td>\n",
       "      <td>Male</td>\n",
       "      <td>21</td>\n",
       "      <td>Single</td>\n",
       "      <td>6</td>\n",
       "      <td>5</td>\n",
       "      <td>83416</td>\n",
       "      <td>200</td>\n",
       "      <td>2500</td>\n",
       "    </tr>\n",
       "    <tr>\n",
       "      <th>176</th>\n",
       "      <td>KP781</td>\n",
       "      <td>42</td>\n",
       "      <td>Male</td>\n",
       "      <td>18</td>\n",
       "      <td>Single</td>\n",
       "      <td>5</td>\n",
       "      <td>4</td>\n",
       "      <td>89641</td>\n",
       "      <td>200</td>\n",
       "      <td>2500</td>\n",
       "    </tr>\n",
       "    <tr>\n",
       "      <th>177</th>\n",
       "      <td>KP781</td>\n",
       "      <td>45</td>\n",
       "      <td>Male</td>\n",
       "      <td>16</td>\n",
       "      <td>Single</td>\n",
       "      <td>5</td>\n",
       "      <td>5</td>\n",
       "      <td>90886</td>\n",
       "      <td>160</td>\n",
       "      <td>2500</td>\n",
       "    </tr>\n",
       "    <tr>\n",
       "      <th>178</th>\n",
       "      <td>KP781</td>\n",
       "      <td>47</td>\n",
       "      <td>Male</td>\n",
       "      <td>18</td>\n",
       "      <td>Partnered</td>\n",
       "      <td>4</td>\n",
       "      <td>5</td>\n",
       "      <td>104581</td>\n",
       "      <td>120</td>\n",
       "      <td>2500</td>\n",
       "    </tr>\n",
       "    <tr>\n",
       "      <th>179</th>\n",
       "      <td>KP781</td>\n",
       "      <td>48</td>\n",
       "      <td>Male</td>\n",
       "      <td>18</td>\n",
       "      <td>Partnered</td>\n",
       "      <td>4</td>\n",
       "      <td>5</td>\n",
       "      <td>95508</td>\n",
       "      <td>180</td>\n",
       "      <td>2500</td>\n",
       "    </tr>\n",
       "  </tbody>\n",
       "</table>\n",
       "<p>180 rows × 10 columns</p>\n",
       "</div>"
      ],
      "text/plain": [
       "    Product  Age  Gender  Education MaritalStatus  Usage  Fitness  Income  \\\n",
       "0     KP281   18    Male         14        Single      3        4   29562   \n",
       "1     KP281   19    Male         15        Single      2        3   31836   \n",
       "2     KP281   19  Female         14     Partnered      4        3   30699   \n",
       "3     KP281   19    Male         12        Single      3        3   32973   \n",
       "4     KP281   20    Male         13     Partnered      4        2   35247   \n",
       "..      ...  ...     ...        ...           ...    ...      ...     ...   \n",
       "175   KP781   40    Male         21        Single      6        5   83416   \n",
       "176   KP781   42    Male         18        Single      5        4   89641   \n",
       "177   KP781   45    Male         16        Single      5        5   90886   \n",
       "178   KP781   47    Male         18     Partnered      4        5  104581   \n",
       "179   KP781   48    Male         18     Partnered      4        5   95508   \n",
       "\n",
       "     Miles  Selling_Price  \n",
       "0      112           1500  \n",
       "1       75           1500  \n",
       "2       66           1500  \n",
       "3       85           1500  \n",
       "4       47           1500  \n",
       "..     ...            ...  \n",
       "175    200           2500  \n",
       "176    200           2500  \n",
       "177    160           2500  \n",
       "178    120           2500  \n",
       "179    180           2500  \n",
       "\n",
       "[180 rows x 10 columns]"
      ]
     },
     "execution_count": 111,
     "metadata": {},
     "output_type": "execute_result"
    }
   ],
   "source": [
    "aerofit[\"Selling_Price\"] = aerofit[\"Product\"].apply(map_the_price)\n",
    "aerofit"
   ]
  },
  {
   "cell_type": "markdown",
   "id": "eb4846d6",
   "metadata": {},
   "source": [
    "### Better Understanding\n",
    "\n",
    "For the better understanding of Fitness and Usage we convert it to the categorical colums as C_Fitness and C_Usage. \n",
    "\n",
    "**Scale :-**\n",
    "\n",
    "**Fitness :**\n",
    "\n",
    "1.1 and 2 - Low\n",
    "\n",
    "2.3 and 4 - Average\n",
    "\n",
    "3.5 - High\n",
    "\n",
    "\n",
    "**Usage :**\n",
    "\n",
    "1.2 and 3 - Low\n",
    "\n",
    "2.4 and 5 - Average\n",
    "\n",
    "3.6 and 7 - High"
   ]
  },
  {
   "cell_type": "code",
   "execution_count": 112,
   "id": "d1ab5f4a",
   "metadata": {},
   "outputs": [
    {
     "data": {
      "text/html": [
       "<div>\n",
       "<style scoped>\n",
       "    .dataframe tbody tr th:only-of-type {\n",
       "        vertical-align: middle;\n",
       "    }\n",
       "\n",
       "    .dataframe tbody tr th {\n",
       "        vertical-align: top;\n",
       "    }\n",
       "\n",
       "    .dataframe thead th {\n",
       "        text-align: right;\n",
       "    }\n",
       "</style>\n",
       "<table border=\"1\" class=\"dataframe\">\n",
       "  <thead>\n",
       "    <tr style=\"text-align: right;\">\n",
       "      <th></th>\n",
       "      <th>Product</th>\n",
       "      <th>Age</th>\n",
       "      <th>Gender</th>\n",
       "      <th>Education</th>\n",
       "      <th>MaritalStatus</th>\n",
       "      <th>Usage</th>\n",
       "      <th>Fitness</th>\n",
       "      <th>Income</th>\n",
       "      <th>Miles</th>\n",
       "      <th>Selling_Price</th>\n",
       "      <th>C_Fitness</th>\n",
       "    </tr>\n",
       "  </thead>\n",
       "  <tbody>\n",
       "    <tr>\n",
       "      <th>0</th>\n",
       "      <td>KP281</td>\n",
       "      <td>18</td>\n",
       "      <td>Male</td>\n",
       "      <td>14</td>\n",
       "      <td>Single</td>\n",
       "      <td>3</td>\n",
       "      <td>4</td>\n",
       "      <td>29562</td>\n",
       "      <td>112</td>\n",
       "      <td>1500</td>\n",
       "      <td>Average</td>\n",
       "    </tr>\n",
       "    <tr>\n",
       "      <th>1</th>\n",
       "      <td>KP281</td>\n",
       "      <td>19</td>\n",
       "      <td>Male</td>\n",
       "      <td>15</td>\n",
       "      <td>Single</td>\n",
       "      <td>2</td>\n",
       "      <td>3</td>\n",
       "      <td>31836</td>\n",
       "      <td>75</td>\n",
       "      <td>1500</td>\n",
       "      <td>Average</td>\n",
       "    </tr>\n",
       "    <tr>\n",
       "      <th>2</th>\n",
       "      <td>KP281</td>\n",
       "      <td>19</td>\n",
       "      <td>Female</td>\n",
       "      <td>14</td>\n",
       "      <td>Partnered</td>\n",
       "      <td>4</td>\n",
       "      <td>3</td>\n",
       "      <td>30699</td>\n",
       "      <td>66</td>\n",
       "      <td>1500</td>\n",
       "      <td>Average</td>\n",
       "    </tr>\n",
       "    <tr>\n",
       "      <th>3</th>\n",
       "      <td>KP281</td>\n",
       "      <td>19</td>\n",
       "      <td>Male</td>\n",
       "      <td>12</td>\n",
       "      <td>Single</td>\n",
       "      <td>3</td>\n",
       "      <td>3</td>\n",
       "      <td>32973</td>\n",
       "      <td>85</td>\n",
       "      <td>1500</td>\n",
       "      <td>Average</td>\n",
       "    </tr>\n",
       "    <tr>\n",
       "      <th>4</th>\n",
       "      <td>KP281</td>\n",
       "      <td>20</td>\n",
       "      <td>Male</td>\n",
       "      <td>13</td>\n",
       "      <td>Partnered</td>\n",
       "      <td>4</td>\n",
       "      <td>2</td>\n",
       "      <td>35247</td>\n",
       "      <td>47</td>\n",
       "      <td>1500</td>\n",
       "      <td>Low</td>\n",
       "    </tr>\n",
       "    <tr>\n",
       "      <th>...</th>\n",
       "      <td>...</td>\n",
       "      <td>...</td>\n",
       "      <td>...</td>\n",
       "      <td>...</td>\n",
       "      <td>...</td>\n",
       "      <td>...</td>\n",
       "      <td>...</td>\n",
       "      <td>...</td>\n",
       "      <td>...</td>\n",
       "      <td>...</td>\n",
       "      <td>...</td>\n",
       "    </tr>\n",
       "    <tr>\n",
       "      <th>175</th>\n",
       "      <td>KP781</td>\n",
       "      <td>40</td>\n",
       "      <td>Male</td>\n",
       "      <td>21</td>\n",
       "      <td>Single</td>\n",
       "      <td>6</td>\n",
       "      <td>5</td>\n",
       "      <td>83416</td>\n",
       "      <td>200</td>\n",
       "      <td>2500</td>\n",
       "      <td>High</td>\n",
       "    </tr>\n",
       "    <tr>\n",
       "      <th>176</th>\n",
       "      <td>KP781</td>\n",
       "      <td>42</td>\n",
       "      <td>Male</td>\n",
       "      <td>18</td>\n",
       "      <td>Single</td>\n",
       "      <td>5</td>\n",
       "      <td>4</td>\n",
       "      <td>89641</td>\n",
       "      <td>200</td>\n",
       "      <td>2500</td>\n",
       "      <td>Average</td>\n",
       "    </tr>\n",
       "    <tr>\n",
       "      <th>177</th>\n",
       "      <td>KP781</td>\n",
       "      <td>45</td>\n",
       "      <td>Male</td>\n",
       "      <td>16</td>\n",
       "      <td>Single</td>\n",
       "      <td>5</td>\n",
       "      <td>5</td>\n",
       "      <td>90886</td>\n",
       "      <td>160</td>\n",
       "      <td>2500</td>\n",
       "      <td>High</td>\n",
       "    </tr>\n",
       "    <tr>\n",
       "      <th>178</th>\n",
       "      <td>KP781</td>\n",
       "      <td>47</td>\n",
       "      <td>Male</td>\n",
       "      <td>18</td>\n",
       "      <td>Partnered</td>\n",
       "      <td>4</td>\n",
       "      <td>5</td>\n",
       "      <td>104581</td>\n",
       "      <td>120</td>\n",
       "      <td>2500</td>\n",
       "      <td>High</td>\n",
       "    </tr>\n",
       "    <tr>\n",
       "      <th>179</th>\n",
       "      <td>KP781</td>\n",
       "      <td>48</td>\n",
       "      <td>Male</td>\n",
       "      <td>18</td>\n",
       "      <td>Partnered</td>\n",
       "      <td>4</td>\n",
       "      <td>5</td>\n",
       "      <td>95508</td>\n",
       "      <td>180</td>\n",
       "      <td>2500</td>\n",
       "      <td>High</td>\n",
       "    </tr>\n",
       "  </tbody>\n",
       "</table>\n",
       "<p>180 rows × 11 columns</p>\n",
       "</div>"
      ],
      "text/plain": [
       "    Product  Age  Gender  Education MaritalStatus  Usage  Fitness  Income  \\\n",
       "0     KP281   18    Male         14        Single      3        4   29562   \n",
       "1     KP281   19    Male         15        Single      2        3   31836   \n",
       "2     KP281   19  Female         14     Partnered      4        3   30699   \n",
       "3     KP281   19    Male         12        Single      3        3   32973   \n",
       "4     KP281   20    Male         13     Partnered      4        2   35247   \n",
       "..      ...  ...     ...        ...           ...    ...      ...     ...   \n",
       "175   KP781   40    Male         21        Single      6        5   83416   \n",
       "176   KP781   42    Male         18        Single      5        4   89641   \n",
       "177   KP781   45    Male         16        Single      5        5   90886   \n",
       "178   KP781   47    Male         18     Partnered      4        5  104581   \n",
       "179   KP781   48    Male         18     Partnered      4        5   95508   \n",
       "\n",
       "     Miles  Selling_Price C_Fitness  \n",
       "0      112           1500   Average  \n",
       "1       75           1500   Average  \n",
       "2       66           1500   Average  \n",
       "3       85           1500   Average  \n",
       "4       47           1500       Low  \n",
       "..     ...            ...       ...  \n",
       "175    200           2500      High  \n",
       "176    200           2500   Average  \n",
       "177    160           2500      High  \n",
       "178    120           2500      High  \n",
       "179    180           2500      High  \n",
       "\n",
       "[180 rows x 11 columns]"
      ]
     },
     "execution_count": 112,
     "metadata": {},
     "output_type": "execute_result"
    }
   ],
   "source": [
    "def map_to_F_category(value):\n",
    "    if value <= 2:\n",
    "        return 'Low'\n",
    "    elif value <= 4:\n",
    "        return 'Average'\n",
    "    else:\n",
    "        return 'High'\n",
    "    \n",
    "aerofit[\"C_Fitness\"] = aerofit[\"Fitness\"].apply(map_to_F_category)\n",
    "aerofit"
   ]
  },
  {
   "cell_type": "code",
   "execution_count": 113,
   "id": "77af020a",
   "metadata": {},
   "outputs": [
    {
     "data": {
      "text/html": [
       "<div>\n",
       "<style scoped>\n",
       "    .dataframe tbody tr th:only-of-type {\n",
       "        vertical-align: middle;\n",
       "    }\n",
       "\n",
       "    .dataframe tbody tr th {\n",
       "        vertical-align: top;\n",
       "    }\n",
       "\n",
       "    .dataframe thead th {\n",
       "        text-align: right;\n",
       "    }\n",
       "</style>\n",
       "<table border=\"1\" class=\"dataframe\">\n",
       "  <thead>\n",
       "    <tr style=\"text-align: right;\">\n",
       "      <th></th>\n",
       "      <th>Product</th>\n",
       "      <th>Age</th>\n",
       "      <th>Gender</th>\n",
       "      <th>Education</th>\n",
       "      <th>MaritalStatus</th>\n",
       "      <th>Usage</th>\n",
       "      <th>Fitness</th>\n",
       "      <th>Income</th>\n",
       "      <th>Miles</th>\n",
       "      <th>Selling_Price</th>\n",
       "      <th>C_Fitness</th>\n",
       "      <th>C_Usage</th>\n",
       "    </tr>\n",
       "  </thead>\n",
       "  <tbody>\n",
       "    <tr>\n",
       "      <th>0</th>\n",
       "      <td>KP281</td>\n",
       "      <td>18</td>\n",
       "      <td>Male</td>\n",
       "      <td>14</td>\n",
       "      <td>Single</td>\n",
       "      <td>3</td>\n",
       "      <td>4</td>\n",
       "      <td>29562</td>\n",
       "      <td>112</td>\n",
       "      <td>1500</td>\n",
       "      <td>Average</td>\n",
       "      <td>Low</td>\n",
       "    </tr>\n",
       "    <tr>\n",
       "      <th>1</th>\n",
       "      <td>KP281</td>\n",
       "      <td>19</td>\n",
       "      <td>Male</td>\n",
       "      <td>15</td>\n",
       "      <td>Single</td>\n",
       "      <td>2</td>\n",
       "      <td>3</td>\n",
       "      <td>31836</td>\n",
       "      <td>75</td>\n",
       "      <td>1500</td>\n",
       "      <td>Average</td>\n",
       "      <td>Low</td>\n",
       "    </tr>\n",
       "    <tr>\n",
       "      <th>2</th>\n",
       "      <td>KP281</td>\n",
       "      <td>19</td>\n",
       "      <td>Female</td>\n",
       "      <td>14</td>\n",
       "      <td>Partnered</td>\n",
       "      <td>4</td>\n",
       "      <td>3</td>\n",
       "      <td>30699</td>\n",
       "      <td>66</td>\n",
       "      <td>1500</td>\n",
       "      <td>Average</td>\n",
       "      <td>Average</td>\n",
       "    </tr>\n",
       "    <tr>\n",
       "      <th>3</th>\n",
       "      <td>KP281</td>\n",
       "      <td>19</td>\n",
       "      <td>Male</td>\n",
       "      <td>12</td>\n",
       "      <td>Single</td>\n",
       "      <td>3</td>\n",
       "      <td>3</td>\n",
       "      <td>32973</td>\n",
       "      <td>85</td>\n",
       "      <td>1500</td>\n",
       "      <td>Average</td>\n",
       "      <td>Low</td>\n",
       "    </tr>\n",
       "    <tr>\n",
       "      <th>4</th>\n",
       "      <td>KP281</td>\n",
       "      <td>20</td>\n",
       "      <td>Male</td>\n",
       "      <td>13</td>\n",
       "      <td>Partnered</td>\n",
       "      <td>4</td>\n",
       "      <td>2</td>\n",
       "      <td>35247</td>\n",
       "      <td>47</td>\n",
       "      <td>1500</td>\n",
       "      <td>Low</td>\n",
       "      <td>Average</td>\n",
       "    </tr>\n",
       "    <tr>\n",
       "      <th>...</th>\n",
       "      <td>...</td>\n",
       "      <td>...</td>\n",
       "      <td>...</td>\n",
       "      <td>...</td>\n",
       "      <td>...</td>\n",
       "      <td>...</td>\n",
       "      <td>...</td>\n",
       "      <td>...</td>\n",
       "      <td>...</td>\n",
       "      <td>...</td>\n",
       "      <td>...</td>\n",
       "      <td>...</td>\n",
       "    </tr>\n",
       "    <tr>\n",
       "      <th>175</th>\n",
       "      <td>KP781</td>\n",
       "      <td>40</td>\n",
       "      <td>Male</td>\n",
       "      <td>21</td>\n",
       "      <td>Single</td>\n",
       "      <td>6</td>\n",
       "      <td>5</td>\n",
       "      <td>83416</td>\n",
       "      <td>200</td>\n",
       "      <td>2500</td>\n",
       "      <td>High</td>\n",
       "      <td>High</td>\n",
       "    </tr>\n",
       "    <tr>\n",
       "      <th>176</th>\n",
       "      <td>KP781</td>\n",
       "      <td>42</td>\n",
       "      <td>Male</td>\n",
       "      <td>18</td>\n",
       "      <td>Single</td>\n",
       "      <td>5</td>\n",
       "      <td>4</td>\n",
       "      <td>89641</td>\n",
       "      <td>200</td>\n",
       "      <td>2500</td>\n",
       "      <td>Average</td>\n",
       "      <td>Average</td>\n",
       "    </tr>\n",
       "    <tr>\n",
       "      <th>177</th>\n",
       "      <td>KP781</td>\n",
       "      <td>45</td>\n",
       "      <td>Male</td>\n",
       "      <td>16</td>\n",
       "      <td>Single</td>\n",
       "      <td>5</td>\n",
       "      <td>5</td>\n",
       "      <td>90886</td>\n",
       "      <td>160</td>\n",
       "      <td>2500</td>\n",
       "      <td>High</td>\n",
       "      <td>Average</td>\n",
       "    </tr>\n",
       "    <tr>\n",
       "      <th>178</th>\n",
       "      <td>KP781</td>\n",
       "      <td>47</td>\n",
       "      <td>Male</td>\n",
       "      <td>18</td>\n",
       "      <td>Partnered</td>\n",
       "      <td>4</td>\n",
       "      <td>5</td>\n",
       "      <td>104581</td>\n",
       "      <td>120</td>\n",
       "      <td>2500</td>\n",
       "      <td>High</td>\n",
       "      <td>Average</td>\n",
       "    </tr>\n",
       "    <tr>\n",
       "      <th>179</th>\n",
       "      <td>KP781</td>\n",
       "      <td>48</td>\n",
       "      <td>Male</td>\n",
       "      <td>18</td>\n",
       "      <td>Partnered</td>\n",
       "      <td>4</td>\n",
       "      <td>5</td>\n",
       "      <td>95508</td>\n",
       "      <td>180</td>\n",
       "      <td>2500</td>\n",
       "      <td>High</td>\n",
       "      <td>Average</td>\n",
       "    </tr>\n",
       "  </tbody>\n",
       "</table>\n",
       "<p>180 rows × 12 columns</p>\n",
       "</div>"
      ],
      "text/plain": [
       "    Product  Age  Gender  Education MaritalStatus  Usage  Fitness  Income  \\\n",
       "0     KP281   18    Male         14        Single      3        4   29562   \n",
       "1     KP281   19    Male         15        Single      2        3   31836   \n",
       "2     KP281   19  Female         14     Partnered      4        3   30699   \n",
       "3     KP281   19    Male         12        Single      3        3   32973   \n",
       "4     KP281   20    Male         13     Partnered      4        2   35247   \n",
       "..      ...  ...     ...        ...           ...    ...      ...     ...   \n",
       "175   KP781   40    Male         21        Single      6        5   83416   \n",
       "176   KP781   42    Male         18        Single      5        4   89641   \n",
       "177   KP781   45    Male         16        Single      5        5   90886   \n",
       "178   KP781   47    Male         18     Partnered      4        5  104581   \n",
       "179   KP781   48    Male         18     Partnered      4        5   95508   \n",
       "\n",
       "     Miles  Selling_Price C_Fitness  C_Usage  \n",
       "0      112           1500   Average      Low  \n",
       "1       75           1500   Average      Low  \n",
       "2       66           1500   Average  Average  \n",
       "3       85           1500   Average      Low  \n",
       "4       47           1500       Low  Average  \n",
       "..     ...            ...       ...      ...  \n",
       "175    200           2500      High     High  \n",
       "176    200           2500   Average  Average  \n",
       "177    160           2500      High  Average  \n",
       "178    120           2500      High  Average  \n",
       "179    180           2500      High  Average  \n",
       "\n",
       "[180 rows x 12 columns]"
      ]
     },
     "execution_count": 113,
     "metadata": {},
     "output_type": "execute_result"
    }
   ],
   "source": [
    "def map_to_U_category(value):\n",
    "    if value <= 3:\n",
    "        return 'Low'\n",
    "    elif value <= 5:\n",
    "        return 'Average'\n",
    "    else:\n",
    "        return 'High'\n",
    "    \n",
    "aerofit[\"C_Usage\"] = aerofit[\"Usage\"].apply(map_to_U_category)\n",
    "aerofit"
   ]
  },
  {
   "cell_type": "markdown",
   "id": "2d243731",
   "metadata": {},
   "source": [
    "### Analyzing Each Column\n",
    "\n",
    "\n",
    "Product Purchased : KP281, KP481, or KP781\n",
    "\n",
    "Age               : In years\n",
    "\n",
    "Gender            : Male/Female\n",
    "\n",
    "Education         : In years\n",
    "\n",
    "MaritalStatus     : Single or partnered\n",
    "\n",
    "Usage             : The average number of times the customer plans to use the treadmill each week\n",
    "\n",
    "Income            : Annual income (in $)\n",
    "\n",
    "Fitness           : Self-rated fitness on a 1-to-5 scale, where 1 is the poor shape and 5 is the excellent shape\n",
    "\n",
    "Miles             : The average number of miles the customer expects to walk/run each week\n",
    "\n",
    "selling_price     : Selling Price for the Products\n",
    "\n",
    "C_Usage           : Categorical representation of usage. 2 and 3 - Low ,4 and 5 - Average ,6 and 7 - High\n",
    "\n",
    "C_Fitness         :Categorical representation of Fitness. 1 and 2 - Low ,3 and 4 - Average ,5 - High"
   ]
  },
  {
   "cell_type": "markdown",
   "id": "c4d711b4",
   "metadata": {},
   "source": [
    "### Shape "
   ]
  },
  {
   "cell_type": "code",
   "execution_count": 114,
   "id": "a85b2bef",
   "metadata": {},
   "outputs": [
    {
     "data": {
      "text/plain": [
       "(180, 12)"
      ]
     },
     "execution_count": 114,
     "metadata": {},
     "output_type": "execute_result"
    }
   ],
   "source": [
    "aerofit.shape"
   ]
  },
  {
   "cell_type": "markdown",
   "id": "0e246ddb",
   "metadata": {},
   "source": [
    "**Shape of the data :** 180 rows and 12 columns"
   ]
  },
  {
   "cell_type": "markdown",
   "id": "f06203aa",
   "metadata": {},
   "source": [
    "### Information about the Columns"
   ]
  },
  {
   "cell_type": "code",
   "execution_count": 115,
   "id": "f0f5fa40",
   "metadata": {},
   "outputs": [
    {
     "name": "stdout",
     "output_type": "stream",
     "text": [
      "<class 'pandas.core.frame.DataFrame'>\n",
      "RangeIndex: 180 entries, 0 to 179\n",
      "Data columns (total 12 columns):\n",
      " #   Column         Non-Null Count  Dtype \n",
      "---  ------         --------------  ----- \n",
      " 0   Product        180 non-null    object\n",
      " 1   Age            180 non-null    int64 \n",
      " 2   Gender         180 non-null    object\n",
      " 3   Education      180 non-null    int64 \n",
      " 4   MaritalStatus  180 non-null    object\n",
      " 5   Usage          180 non-null    int64 \n",
      " 6   Fitness        180 non-null    int64 \n",
      " 7   Income         180 non-null    int64 \n",
      " 8   Miles          180 non-null    int64 \n",
      " 9   Selling_Price  180 non-null    int64 \n",
      " 10  C_Fitness      180 non-null    object\n",
      " 11  C_Usage        180 non-null    object\n",
      "dtypes: int64(7), object(5)\n",
      "memory usage: 17.0+ KB\n"
     ]
    }
   ],
   "source": [
    "aerofit.info()"
   ]
  },
  {
   "cell_type": "markdown",
   "id": "cb369a53",
   "metadata": {},
   "source": [
    "### Performing Type conversion\n",
    "\n",
    "Ensuring the data types are appropriately adjusted facilitates smoother data analysis.\n",
    "\n",
    "Gender and MaritalStatus - Covert this to **category**.\n"
   ]
  },
  {
   "cell_type": "code",
   "execution_count": 116,
   "id": "0458b104",
   "metadata": {},
   "outputs": [],
   "source": [
    "aerofit[\"Gender\"] = aerofit[\"Gender\"].astype(\"category\")\n",
    "aerofit[\"MaritalStatus\"] = aerofit[\"MaritalStatus\"].astype(\"category\")"
   ]
  },
  {
   "cell_type": "code",
   "execution_count": 117,
   "id": "65ec136b",
   "metadata": {},
   "outputs": [
    {
     "name": "stdout",
     "output_type": "stream",
     "text": [
      "<class 'pandas.core.frame.DataFrame'>\n",
      "RangeIndex: 180 entries, 0 to 179\n",
      "Data columns (total 12 columns):\n",
      " #   Column         Non-Null Count  Dtype   \n",
      "---  ------         --------------  -----   \n",
      " 0   Product        180 non-null    object  \n",
      " 1   Age            180 non-null    int64   \n",
      " 2   Gender         180 non-null    category\n",
      " 3   Education      180 non-null    int64   \n",
      " 4   MaritalStatus  180 non-null    category\n",
      " 5   Usage          180 non-null    int64   \n",
      " 6   Fitness        180 non-null    int64   \n",
      " 7   Income         180 non-null    int64   \n",
      " 8   Miles          180 non-null    int64   \n",
      " 9   Selling_Price  180 non-null    int64   \n",
      " 10  C_Fitness      180 non-null    object  \n",
      " 11  C_Usage        180 non-null    object  \n",
      "dtypes: category(2), int64(7), object(3)\n",
      "memory usage: 14.8+ KB\n"
     ]
    }
   ],
   "source": [
    "aerofit.info()"
   ]
  },
  {
   "cell_type": "markdown",
   "id": "27640014",
   "metadata": {},
   "source": [
    "### Check for Missing or Null Values"
   ]
  },
  {
   "cell_type": "code",
   "execution_count": 118,
   "id": "a9cbe6ae",
   "metadata": {},
   "outputs": [
    {
     "data": {
      "text/plain": [
       "Product          0\n",
       "Age              0\n",
       "Gender           0\n",
       "Education        0\n",
       "MaritalStatus    0\n",
       "Usage            0\n",
       "Fitness          0\n",
       "Income           0\n",
       "Miles            0\n",
       "Selling_Price    0\n",
       "C_Fitness        0\n",
       "C_Usage          0\n",
       "dtype: int64"
      ]
     },
     "execution_count": 118,
     "metadata": {},
     "output_type": "execute_result"
    }
   ],
   "source": [
    "aerofit.isnull().sum()"
   ]
  },
  {
   "cell_type": "markdown",
   "id": "b245456e",
   "metadata": {},
   "source": [
    "**Missing or Null Values :** There is no missing or Null values in the Dataset. "
   ]
  },
  {
   "cell_type": "markdown",
   "id": "8577883c",
   "metadata": {},
   "source": [
    "### Check For Duplicates"
   ]
  },
  {
   "cell_type": "code",
   "execution_count": 119,
   "id": "71870599",
   "metadata": {},
   "outputs": [
    {
     "data": {
      "text/plain": [
       "False"
      ]
     },
     "execution_count": 119,
     "metadata": {},
     "output_type": "execute_result"
    }
   ],
   "source": [
    "aerofit.duplicated().any()"
   ]
  },
  {
   "cell_type": "markdown",
   "id": "51e52d78",
   "metadata": {},
   "source": [
    "**Duplicates :** There is no duplicates in this Dataset."
   ]
  },
  {
   "cell_type": "markdown",
   "id": "d410d908",
   "metadata": {},
   "source": [
    "### Value Analysis"
   ]
  },
  {
   "cell_type": "markdown",
   "id": "fe75e664",
   "metadata": {},
   "source": [
    "#### Product"
   ]
  },
  {
   "cell_type": "code",
   "execution_count": 120,
   "id": "14e72a4a",
   "metadata": {},
   "outputs": [
    {
     "data": {
      "text/plain": [
       "array(['KP281', 'KP481', 'KP781'], dtype=object)"
      ]
     },
     "execution_count": 120,
     "metadata": {},
     "output_type": "execute_result"
    }
   ],
   "source": [
    "aerofit[\"Product\"].unique()"
   ]
  },
  {
   "cell_type": "markdown",
   "id": "cc5fb064",
   "metadata": {},
   "source": [
    "#### Age"
   ]
  },
  {
   "cell_type": "code",
   "execution_count": 121,
   "id": "a51222e7",
   "metadata": {},
   "outputs": [
    {
     "data": {
      "text/plain": [
       "array([18, 19, 20, 21, 22, 23, 24, 25, 26, 27, 28, 29, 30, 31, 32, 33, 34,\n",
       "       35, 36, 37, 38, 39, 40, 41, 43, 44, 46, 47, 50, 45, 48, 42],\n",
       "      dtype=int64)"
      ]
     },
     "execution_count": 121,
     "metadata": {},
     "output_type": "execute_result"
    }
   ],
   "source": [
    "aerofit[\"Age\"].unique()"
   ]
  },
  {
   "cell_type": "markdown",
   "id": "3411da38",
   "metadata": {},
   "source": [
    "#### Gender"
   ]
  },
  {
   "cell_type": "code",
   "execution_count": 122,
   "id": "0cf914f9",
   "metadata": {},
   "outputs": [
    {
     "data": {
      "text/plain": [
       "['Male', 'Female']\n",
       "Categories (2, object): ['Female', 'Male']"
      ]
     },
     "execution_count": 122,
     "metadata": {},
     "output_type": "execute_result"
    }
   ],
   "source": [
    "aerofit[\"Gender\"].unique()"
   ]
  },
  {
   "cell_type": "markdown",
   "id": "c72c925c",
   "metadata": {},
   "source": [
    "#### Education"
   ]
  },
  {
   "cell_type": "code",
   "execution_count": 123,
   "id": "dc004f07",
   "metadata": {},
   "outputs": [
    {
     "data": {
      "text/plain": [
       "array([14, 15, 12, 13, 16, 18, 20, 21], dtype=int64)"
      ]
     },
     "execution_count": 123,
     "metadata": {},
     "output_type": "execute_result"
    }
   ],
   "source": [
    "aerofit[\"Education\"].unique()"
   ]
  },
  {
   "cell_type": "markdown",
   "id": "68a705b3",
   "metadata": {},
   "source": [
    "#### Marital Status"
   ]
  },
  {
   "cell_type": "code",
   "execution_count": 124,
   "id": "36010d02",
   "metadata": {},
   "outputs": [
    {
     "data": {
      "text/plain": [
       "['Single', 'Partnered']\n",
       "Categories (2, object): ['Partnered', 'Single']"
      ]
     },
     "execution_count": 124,
     "metadata": {},
     "output_type": "execute_result"
    }
   ],
   "source": [
    "aerofit[\"MaritalStatus\"].unique()"
   ]
  },
  {
   "cell_type": "markdown",
   "id": "457cc26a",
   "metadata": {},
   "source": [
    "#### Usage"
   ]
  },
  {
   "cell_type": "code",
   "execution_count": 125,
   "id": "1acef555",
   "metadata": {},
   "outputs": [
    {
     "data": {
      "text/plain": [
       "array([3, 2, 4, 5, 6, 7], dtype=int64)"
      ]
     },
     "execution_count": 125,
     "metadata": {},
     "output_type": "execute_result"
    }
   ],
   "source": [
    "aerofit[\"Usage\"].unique()"
   ]
  },
  {
   "cell_type": "markdown",
   "id": "b7f1d8c1",
   "metadata": {},
   "source": [
    "#### Fitness"
   ]
  },
  {
   "cell_type": "code",
   "execution_count": 126,
   "id": "ae4b1d42",
   "metadata": {},
   "outputs": [
    {
     "data": {
      "text/plain": [
       "array([4, 3, 2, 1, 5], dtype=int64)"
      ]
     },
     "execution_count": 126,
     "metadata": {},
     "output_type": "execute_result"
    }
   ],
   "source": [
    "aerofit[\"Fitness\"].unique()"
   ]
  },
  {
   "cell_type": "markdown",
   "id": "0e2536fd",
   "metadata": {},
   "source": [
    "#### Income"
   ]
  },
  {
   "cell_type": "code",
   "execution_count": 127,
   "id": "35ad1fb3",
   "metadata": {},
   "outputs": [
    {
     "data": {
      "text/plain": [
       "array([ 29562,  31836,  30699,  32973,  35247,  37521,  36384,  38658,\n",
       "        40932,  34110,  39795,  42069,  44343,  45480,  46617,  48891,\n",
       "        53439,  43206,  52302,  51165,  50028,  54576,  68220,  55713,\n",
       "        60261,  67083,  56850,  59124,  61398,  57987,  64809,  47754,\n",
       "        65220,  62535,  48658,  54781,  48556,  58516,  53536,  61006,\n",
       "        57271,  52291,  49801,  62251,  64741,  70966,  75946,  74701,\n",
       "        69721,  83416,  88396,  90886,  92131,  77191,  52290,  85906,\n",
       "       103336,  99601,  89641,  95866, 104581,  95508], dtype=int64)"
      ]
     },
     "execution_count": 127,
     "metadata": {},
     "output_type": "execute_result"
    }
   ],
   "source": [
    "aerofit[\"Income\"].unique()"
   ]
  },
  {
   "cell_type": "markdown",
   "id": "a3b7aaf9",
   "metadata": {},
   "source": [
    "#### Miles"
   ]
  },
  {
   "cell_type": "code",
   "execution_count": 128,
   "id": "70230cb8",
   "metadata": {},
   "outputs": [
    {
     "data": {
      "text/plain": [
       "array([112,  75,  66,  85,  47, 141, 103,  94, 113,  38, 188,  56, 132,\n",
       "       169,  64,  53, 106,  95, 212,  42, 127,  74, 170,  21, 120, 200,\n",
       "       140, 100,  80, 160, 180, 240, 150, 300, 280, 260, 360], dtype=int64)"
      ]
     },
     "execution_count": 128,
     "metadata": {},
     "output_type": "execute_result"
    }
   ],
   "source": [
    "aerofit[\"Miles\"].unique()"
   ]
  },
  {
   "cell_type": "markdown",
   "id": "04385e3f",
   "metadata": {},
   "source": [
    "#### Selling Price"
   ]
  },
  {
   "cell_type": "code",
   "execution_count": 129,
   "id": "1ea5ee1c",
   "metadata": {},
   "outputs": [
    {
     "data": {
      "text/plain": [
       "array([1500, 1750, 2500], dtype=int64)"
      ]
     },
     "execution_count": 129,
     "metadata": {},
     "output_type": "execute_result"
    }
   ],
   "source": [
    "aerofit[\"Selling_Price\"].unique()"
   ]
  },
  {
   "cell_type": "markdown",
   "id": "c132f0b3",
   "metadata": {},
   "source": [
    "#### C_Fitness"
   ]
  },
  {
   "cell_type": "code",
   "execution_count": 130,
   "id": "fa247c74",
   "metadata": {},
   "outputs": [
    {
     "data": {
      "text/plain": [
       "array(['Average', 'Low', 'High'], dtype=object)"
      ]
     },
     "execution_count": 130,
     "metadata": {},
     "output_type": "execute_result"
    }
   ],
   "source": [
    "aerofit[\"C_Fitness\"].unique()"
   ]
  },
  {
   "cell_type": "markdown",
   "id": "b07e3ebd",
   "metadata": {},
   "source": [
    "#### C_Usage"
   ]
  },
  {
   "cell_type": "code",
   "execution_count": 131,
   "id": "79544acb",
   "metadata": {},
   "outputs": [
    {
     "data": {
      "text/plain": [
       "array(['Low', 'Average', 'High'], dtype=object)"
      ]
     },
     "execution_count": 131,
     "metadata": {},
     "output_type": "execute_result"
    }
   ],
   "source": [
    "aerofit[\"C_Usage\"].unique()"
   ]
  },
  {
   "cell_type": "markdown",
   "id": "ce218aba",
   "metadata": {},
   "source": [
    "### Numerical Description"
   ]
  },
  {
   "cell_type": "code",
   "execution_count": 132,
   "id": "cb9b0cd0",
   "metadata": {},
   "outputs": [
    {
     "data": {
      "text/html": [
       "<div>\n",
       "<style scoped>\n",
       "    .dataframe tbody tr th:only-of-type {\n",
       "        vertical-align: middle;\n",
       "    }\n",
       "\n",
       "    .dataframe tbody tr th {\n",
       "        vertical-align: top;\n",
       "    }\n",
       "\n",
       "    .dataframe thead th {\n",
       "        text-align: right;\n",
       "    }\n",
       "</style>\n",
       "<table border=\"1\" class=\"dataframe\">\n",
       "  <thead>\n",
       "    <tr style=\"text-align: right;\">\n",
       "      <th></th>\n",
       "      <th>count</th>\n",
       "      <th>mean</th>\n",
       "      <th>std</th>\n",
       "      <th>min</th>\n",
       "      <th>25%</th>\n",
       "      <th>50%</th>\n",
       "      <th>75%</th>\n",
       "      <th>max</th>\n",
       "    </tr>\n",
       "  </thead>\n",
       "  <tbody>\n",
       "    <tr>\n",
       "      <th>Age</th>\n",
       "      <td>180.0</td>\n",
       "      <td>28.788889</td>\n",
       "      <td>6.943498</td>\n",
       "      <td>18.0</td>\n",
       "      <td>24.00</td>\n",
       "      <td>26.0</td>\n",
       "      <td>33.00</td>\n",
       "      <td>50.0</td>\n",
       "    </tr>\n",
       "    <tr>\n",
       "      <th>Education</th>\n",
       "      <td>180.0</td>\n",
       "      <td>15.572222</td>\n",
       "      <td>1.617055</td>\n",
       "      <td>12.0</td>\n",
       "      <td>14.00</td>\n",
       "      <td>16.0</td>\n",
       "      <td>16.00</td>\n",
       "      <td>21.0</td>\n",
       "    </tr>\n",
       "    <tr>\n",
       "      <th>Usage</th>\n",
       "      <td>180.0</td>\n",
       "      <td>3.455556</td>\n",
       "      <td>1.084797</td>\n",
       "      <td>2.0</td>\n",
       "      <td>3.00</td>\n",
       "      <td>3.0</td>\n",
       "      <td>4.00</td>\n",
       "      <td>7.0</td>\n",
       "    </tr>\n",
       "    <tr>\n",
       "      <th>Fitness</th>\n",
       "      <td>180.0</td>\n",
       "      <td>3.311111</td>\n",
       "      <td>0.958869</td>\n",
       "      <td>1.0</td>\n",
       "      <td>3.00</td>\n",
       "      <td>3.0</td>\n",
       "      <td>4.00</td>\n",
       "      <td>5.0</td>\n",
       "    </tr>\n",
       "    <tr>\n",
       "      <th>Income</th>\n",
       "      <td>180.0</td>\n",
       "      <td>53719.577778</td>\n",
       "      <td>16506.684226</td>\n",
       "      <td>29562.0</td>\n",
       "      <td>44058.75</td>\n",
       "      <td>50596.5</td>\n",
       "      <td>58668.00</td>\n",
       "      <td>104581.0</td>\n",
       "    </tr>\n",
       "    <tr>\n",
       "      <th>Miles</th>\n",
       "      <td>180.0</td>\n",
       "      <td>103.194444</td>\n",
       "      <td>51.863605</td>\n",
       "      <td>21.0</td>\n",
       "      <td>66.00</td>\n",
       "      <td>94.0</td>\n",
       "      <td>114.75</td>\n",
       "      <td>360.0</td>\n",
       "    </tr>\n",
       "    <tr>\n",
       "      <th>Selling_Price</th>\n",
       "      <td>180.0</td>\n",
       "      <td>1805.555556</td>\n",
       "      <td>387.978895</td>\n",
       "      <td>1500.0</td>\n",
       "      <td>1500.00</td>\n",
       "      <td>1750.0</td>\n",
       "      <td>1750.00</td>\n",
       "      <td>2500.0</td>\n",
       "    </tr>\n",
       "  </tbody>\n",
       "</table>\n",
       "</div>"
      ],
      "text/plain": [
       "               count          mean           std      min       25%      50%  \\\n",
       "Age            180.0     28.788889      6.943498     18.0     24.00     26.0   \n",
       "Education      180.0     15.572222      1.617055     12.0     14.00     16.0   \n",
       "Usage          180.0      3.455556      1.084797      2.0      3.00      3.0   \n",
       "Fitness        180.0      3.311111      0.958869      1.0      3.00      3.0   \n",
       "Income         180.0  53719.577778  16506.684226  29562.0  44058.75  50596.5   \n",
       "Miles          180.0    103.194444     51.863605     21.0     66.00     94.0   \n",
       "Selling_Price  180.0   1805.555556    387.978895   1500.0   1500.00   1750.0   \n",
       "\n",
       "                    75%       max  \n",
       "Age               33.00      50.0  \n",
       "Education         16.00      21.0  \n",
       "Usage              4.00       7.0  \n",
       "Fitness            4.00       5.0  \n",
       "Income         58668.00  104581.0  \n",
       "Miles            114.75     360.0  \n",
       "Selling_Price   1750.00    2500.0  "
      ]
     },
     "execution_count": 132,
     "metadata": {},
     "output_type": "execute_result"
    }
   ],
   "source": [
    "aerofit.describe().transpose()"
   ]
  },
  {
   "cell_type": "markdown",
   "id": "42e81945",
   "metadata": {},
   "source": [
    "**Insights :**\n",
    "\n",
    "1.There are no missing values in the data.\n",
    "\n",
    "2.There are 3 unique products in the dataset.\n",
    "\n",
    "3.KP281 is the most frequent product.\n",
    "\n",
    "4.Minimum & Maximum age of the person is 18 & 50, mean is 28.79 and 75% of persons have age less than or equal to 33.\n",
    "\n",
    "5.Most of the people are having 16 years of education i.e., 75% of persons are having education <= 16 years.\n",
    "\n",
    "6.Out of 180 data points, 104's gender is Male and rest are the female.\n",
    "\n",
    "7.Standard deviation for Income & Miles is very high. These variables might have the outliers in it."
   ]
  },
  {
   "cell_type": "markdown",
   "id": "a7ba849d",
   "metadata": {},
   "source": [
    "### Categorical Description"
   ]
  },
  {
   "cell_type": "markdown",
   "id": "71442bf2",
   "metadata": {},
   "source": [
    "# univariate Analysis"
   ]
  },
  {
   "cell_type": "markdown",
   "id": "5b71f09d",
   "metadata": {},
   "source": [
    "#### Product"
   ]
  },
  {
   "cell_type": "code",
   "execution_count": 134,
   "id": "b15dc1c7",
   "metadata": {},
   "outputs": [
    {
     "data": {
      "text/plain": [
       "KP281    80\n",
       "KP481    60\n",
       "KP781    40\n",
       "Name: Product, dtype: int64"
      ]
     },
     "execution_count": 134,
     "metadata": {},
     "output_type": "execute_result"
    }
   ],
   "source": [
    "aerofit[\"Product\"].value_counts()"
   ]
  },
  {
   "cell_type": "code",
   "execution_count": 135,
   "id": "17f8d46e",
   "metadata": {},
   "outputs": [
    {
     "data": {
      "image/png": "[encoded data removed]",
      "text/plain": [
       "<Figure size 600x400 with 1 Axes>"
      ]
     },
     "metadata": {},
     "output_type": "display_data"
    }
   ],
   "source": [
    "sns.set_style(\"darkgrid\")\n",
    "\n",
    "plt.figure(figsize = (6,4))\n",
    "sns.countplot(data = aerofit,x = \"Product\",width = 0.4,palette = \"magma\",ec = \"k\")\n",
    "plt.show()"
   ]
  },
  {
   "cell_type": "markdown",
   "id": "32911432",
   "metadata": {},
   "source": [
    "**Insights :**\n",
    "\n",
    "There are more number of products in KP281 when compared to the other products KP481 and KP781."
   ]
  },
  {
   "cell_type": "markdown",
   "id": "a5e1730f",
   "metadata": {},
   "source": [
    "#### Age"
   ]
  },
  {
   "cell_type": "code",
   "execution_count": 136,
   "id": "93d216d2",
   "metadata": {},
   "outputs": [
    {
     "data": {
      "text/plain": [
       "(20, 25]    69\n",
       "(25, 30]    41\n",
       "(30, 35]    32\n",
       "(35, 40]    16\n",
       "(15, 20]    10\n",
       "(40, 45]     6\n",
       "(45, 50]     6\n",
       "Name: Age, dtype: int64"
      ]
     },
     "execution_count": 136,
     "metadata": {},
     "output_type": "execute_result"
    }
   ],
   "source": [
    "aerofit[\"Age\"].value_counts()\n",
    "s = pd.cut(x = aerofit[\"Age\"],bins =[15,20,25,30,35,40,45,50] )\n",
    "s.value_counts()\n"
   ]
  },
  {
   "cell_type": "code",
   "execution_count": 137,
   "id": "e4708f0a",
   "metadata": {
    "scrolled": false
   },
   "outputs": [
    {
     "data": {
      "image/png": "[encoded data removed]",
      "text/plain": [
       "<Figure size 640x480 with 1 Axes>"
      ]
     },
     "metadata": {},
     "output_type": "display_data"
    }
   ],
   "source": [
    "bins = [15,20,25,30,35,40,45,50]\n",
    "sns.histplot(data = aerofit,x = \"Age\",kde = True,bins =  bins,stat = \"count\",ec = \"k\")\n",
    "plt.show()"
   ]
  },
  {
   "cell_type": "markdown",
   "id": "2973df81",
   "metadata": {},
   "source": [
    "**Insights :**\n",
    "\n",
    "Among these different ranges in Age, 20-25 age are the hightest in distribution. "
   ]
  },
  {
   "cell_type": "markdown",
   "id": "faef17c4",
   "metadata": {},
   "source": [
    "#### Gender"
   ]
  },
  {
   "cell_type": "code",
   "execution_count": 138,
   "id": "c7d55a37",
   "metadata": {},
   "outputs": [
    {
     "data": {
      "text/plain": [
       "Male      104\n",
       "Female     76\n",
       "Name: Gender, dtype: int64"
      ]
     },
     "execution_count": 138,
     "metadata": {},
     "output_type": "execute_result"
    }
   ],
   "source": [
    "aerofit[\"Gender\"].value_counts()"
   ]
  },
  {
   "cell_type": "code",
   "execution_count": 139,
   "id": "a7fcd8b6",
   "metadata": {
    "scrolled": false
   },
   "outputs": [
    {
     "data": {
      "image/png": "[encoded data removed]",
      "text/plain": [
       "<Figure size 600x400 with 1 Axes>"
      ]
     },
     "metadata": {},
     "output_type": "display_data"
    }
   ],
   "source": [
    "plt.figure(figsize = (6,4))\n",
    "sns.countplot(data = aerofit,x = \"Gender\",palette = \"magma\",ec = \"k\" ,width = 0.3)\n",
    "plt.show()"
   ]
  },
  {
   "cell_type": "markdown",
   "id": "861188d5",
   "metadata": {},
   "source": [
    "**Insights :**\n",
    "\n",
    "Male are more in this, compared to Female."
   ]
  },
  {
   "cell_type": "markdown",
   "id": "1a6f1c00",
   "metadata": {},
   "source": [
    "#### Selling Price"
   ]
  },
  {
   "cell_type": "code",
   "execution_count": 140,
   "id": "27c6f5e7",
   "metadata": {},
   "outputs": [
    {
     "data": {
      "image/png": "[encoded data removed]",
      "text/plain": [
       "<Figure size 640x480 with 1 Axes>"
      ]
     },
     "metadata": {},
     "output_type": "display_data"
    }
   ],
   "source": [
    "sns.histplot(data = aerofit,x = \"Selling_Price\",bins = 4,kde = True,ec = \"k\")\n",
    "plt.show()"
   ]
  },
  {
   "cell_type": "markdown",
   "id": "ee39aaa3",
   "metadata": {},
   "source": [
    "#### Education"
   ]
  },
  {
   "cell_type": "code",
   "execution_count": 141,
   "id": "e1c78c59",
   "metadata": {
    "scrolled": true
   },
   "outputs": [
    {
     "data": {
      "text/plain": [
       "16    85\n",
       "14    55\n",
       "18    23\n",
       "15     5\n",
       "13     5\n",
       "12     3\n",
       "21     3\n",
       "20     1\n",
       "Name: Education, dtype: int64"
      ]
     },
     "execution_count": 141,
     "metadata": {},
     "output_type": "execute_result"
    }
   ],
   "source": [
    "aerofit[\"Education\"].value_counts()"
   ]
  },
  {
   "cell_type": "code",
   "execution_count": 142,
   "id": "120d9a68",
   "metadata": {},
   "outputs": [
    {
     "data": {
      "text/plain": [
       "<Figure size 600x400 with 0 Axes>"
      ]
     },
     "metadata": {},
     "output_type": "display_data"
    },
    {
     "data": {
      "image/png": "[encoded data removed]",
      "text/plain": [
       "<Figure size 500x500 with 1 Axes>"
      ]
     },
     "metadata": {},
     "output_type": "display_data"
    }
   ],
   "source": [
    "plt.figure(figsize = (6,4))\n",
    "sns.displot(data = aerofit, x = \"Education\",kind = \"kde\",fill = True)\n",
    "plt.show()"
   ]
  },
  {
   "cell_type": "markdown",
   "id": "a900e11c",
   "metadata": {},
   "source": [
    "#### MaritalStatus"
   ]
  },
  {
   "cell_type": "code",
   "execution_count": 143,
   "id": "d3b2a971",
   "metadata": {
    "scrolled": true
   },
   "outputs": [
    {
     "data": {
      "text/plain": [
       "Partnered    107\n",
       "Single        73\n",
       "Name: MaritalStatus, dtype: int64"
      ]
     },
     "execution_count": 143,
     "metadata": {},
     "output_type": "execute_result"
    }
   ],
   "source": [
    "aerofit[\"MaritalStatus\"].value_counts()"
   ]
  },
  {
   "cell_type": "code",
   "execution_count": 144,
   "id": "c353f7f3",
   "metadata": {
    "scrolled": true
   },
   "outputs": [
    {
     "data": {
      "image/png": "[encoded data removed]",
      "text/plain": [
       "<Figure size 600x400 with 1 Axes>"
      ]
     },
     "metadata": {},
     "output_type": "display_data"
    }
   ],
   "source": [
    "plt.figure(figsize = (6,4))\n",
    "plt.pie(data = aerofit,x = aerofit[\"MaritalStatus\"].value_counts(),autopct = \"%.1f%%\",labels = [\"Partnered\",\"Single\"])\n",
    "plt.show()"
   ]
  },
  {
   "cell_type": "markdown",
   "id": "20e69164",
   "metadata": {},
   "source": [
    "**Insights:**\n",
    "\n",
    "Partnered are 59.4% and Single are 40.6% in the Distribution.Among these Partnered are the highest one."
   ]
  },
  {
   "cell_type": "markdown",
   "id": "fb45aa96",
   "metadata": {},
   "source": [
    "#### Income"
   ]
  },
  {
   "cell_type": "code",
   "execution_count": 145,
   "id": "c2288093",
   "metadata": {
    "scrolled": false
   },
   "outputs": [
    {
     "data": {
      "image/png": "[encoded data removed]",
      "text/plain": [
       "<Figure size 640x480 with 1 Axes>"
      ]
     },
     "metadata": {},
     "output_type": "display_data"
    }
   ],
   "source": [
    "sns.histplot(data = aerofit,x = \"Income\",kde = True,ec = \"k\")\n",
    "plt.show()"
   ]
  },
  {
   "cell_type": "markdown",
   "id": "c0a6175d",
   "metadata": {},
   "source": [
    "#### Miles"
   ]
  },
  {
   "cell_type": "code",
   "execution_count": 146,
   "id": "7e045993",
   "metadata": {},
   "outputs": [
    {
     "data": {
      "image/png": "[encoded data removed]",
      "text/plain": [
       "<Figure size 640x480 with 1 Axes>"
      ]
     },
     "metadata": {},
     "output_type": "display_data"
    }
   ],
   "source": [
    "sns.histplot(data = aerofit,x = \"Miles\",kde = True,color = \"r\",ec = \"k\")\n",
    "plt.show()"
   ]
  },
  {
   "cell_type": "markdown",
   "id": "e11be67d",
   "metadata": {},
   "source": [
    "#### C_Fitness"
   ]
  },
  {
   "cell_type": "code",
   "execution_count": 147,
   "id": "c7570cdc",
   "metadata": {},
   "outputs": [
    {
     "data": {
      "image/png": "[encoded data removed]",
      "text/plain": [
       "<Figure size 640x480 with 1 Axes>"
      ]
     },
     "metadata": {},
     "output_type": "display_data"
    }
   ],
   "source": [
    "sns.histplot(data = aerofit,x = \"C_Fitness\",kde = True,shrink = 0.3,ec = \"k\")\n",
    "plt.show()"
   ]
  },
  {
   "cell_type": "markdown",
   "id": "dd00f4a1",
   "metadata": {},
   "source": [
    "**Insights :**\n",
    "\n",
    "In this Fitness category most of them having Average Fitness and followed by High Fitness."
   ]
  },
  {
   "cell_type": "markdown",
   "id": "93d15ae3",
   "metadata": {},
   "source": [
    "#### C_Usage"
   ]
  },
  {
   "cell_type": "code",
   "execution_count": 148,
   "id": "4235a870",
   "metadata": {},
   "outputs": [
    {
     "data": {
      "image/png": "[encoded data removed]",
      "text/plain": [
       "<Figure size 640x480 with 1 Axes>"
      ]
     },
     "metadata": {},
     "output_type": "display_data"
    }
   ],
   "source": [
    "sns.countplot(data = aerofit,x = \"C_Usage\",order = aerofit[\"C_Usage\"].value_counts().index,ec = \"k\",width = 0.3,palette = \"magma\")\n",
    "plt.show()"
   ]
  },
  {
   "cell_type": "markdown",
   "id": "8062dad4",
   "metadata": {},
   "source": [
    "**Insights :**\n",
    "\n",
    "In this Usage category, most of them having the usage value as Low and followed by Average and High usage."
   ]
  },
  {
   "cell_type": "markdown",
   "id": "27755945",
   "metadata": {},
   "source": [
    "### Outliers Analysis or Detection:- "
   ]
  },
  {
   "cell_type": "code",
   "execution_count": 149,
   "id": "41f58398",
   "metadata": {},
   "outputs": [
    {
     "data": {
      "image/png": "[encoded data removed]",
      "text/plain": [
       "<Figure size 1200x800 with 4 Axes>"
      ]
     },
     "metadata": {},
     "output_type": "display_data"
    }
   ],
   "source": [
    "fig, axs = plt.subplots(2, 2, figsize=(12, 8))\n",
    "\n",
    "sns.boxplot(data=aerofit, x=\"Age\", ax=axs[0, 0])\n",
    "axs[0, 0].set_title('Age')\n",
    "\n",
    "sns.boxplot(data=aerofit, x=\"Education\", ax=axs[0, 1])\n",
    "axs[0, 1].set_title('Education')\n",
    "\n",
    "sns.boxplot(data=aerofit, x=\"Income\", ax=axs[1, 0])\n",
    "axs[1, 0].set_title('Income')\n",
    "\n",
    "sns.boxplot(data=aerofit, x=\"Miles\", ax=axs[1, 1])\n",
    "axs[1, 1].set_title('Miles')\n",
    "\n",
    "plt.tight_layout()\n",
    "plt.show()"
   ]
  },
  {
   "cell_type": "markdown",
   "id": "c6ee2c15",
   "metadata": {},
   "source": [
    "**Insights :**\n",
    "\n",
    "1.Age and Education having Fewer Outliers. \n",
    "\n",
    "2.Income and Miles having more number of Outliers."
   ]
  },
  {
   "cell_type": "markdown",
   "id": "2fb10131",
   "metadata": {},
   "source": [
    "# Bi - Variate Analysis"
   ]
  },
  {
   "cell_type": "code",
   "execution_count": 150,
   "id": "33ce58b8",
   "metadata": {},
   "outputs": [
    {
     "data": {
      "text/html": [
       "<div>\n",
       "<style scoped>\n",
       "    .dataframe tbody tr th:only-of-type {\n",
       "        vertical-align: middle;\n",
       "    }\n",
       "\n",
       "    .dataframe tbody tr th {\n",
       "        vertical-align: top;\n",
       "    }\n",
       "\n",
       "    .dataframe thead th {\n",
       "        text-align: right;\n",
       "    }\n",
       "</style>\n",
       "<table border=\"1\" class=\"dataframe\">\n",
       "  <thead>\n",
       "    <tr style=\"text-align: right;\">\n",
       "      <th></th>\n",
       "      <th>Product</th>\n",
       "      <th>Age</th>\n",
       "      <th>Gender</th>\n",
       "      <th>Education</th>\n",
       "      <th>MaritalStatus</th>\n",
       "      <th>Usage</th>\n",
       "      <th>Fitness</th>\n",
       "      <th>Income</th>\n",
       "      <th>Miles</th>\n",
       "      <th>Selling_Price</th>\n",
       "      <th>C_Fitness</th>\n",
       "      <th>C_Usage</th>\n",
       "    </tr>\n",
       "  </thead>\n",
       "  <tbody>\n",
       "    <tr>\n",
       "      <th>0</th>\n",
       "      <td>KP281</td>\n",
       "      <td>18</td>\n",
       "      <td>Male</td>\n",
       "      <td>14</td>\n",
       "      <td>Single</td>\n",
       "      <td>3</td>\n",
       "      <td>4</td>\n",
       "      <td>29562</td>\n",
       "      <td>112</td>\n",
       "      <td>1500</td>\n",
       "      <td>Average</td>\n",
       "      <td>Low</td>\n",
       "    </tr>\n",
       "    <tr>\n",
       "      <th>1</th>\n",
       "      <td>KP281</td>\n",
       "      <td>19</td>\n",
       "      <td>Male</td>\n",
       "      <td>15</td>\n",
       "      <td>Single</td>\n",
       "      <td>2</td>\n",
       "      <td>3</td>\n",
       "      <td>31836</td>\n",
       "      <td>75</td>\n",
       "      <td>1500</td>\n",
       "      <td>Average</td>\n",
       "      <td>Low</td>\n",
       "    </tr>\n",
       "    <tr>\n",
       "      <th>2</th>\n",
       "      <td>KP281</td>\n",
       "      <td>19</td>\n",
       "      <td>Female</td>\n",
       "      <td>14</td>\n",
       "      <td>Partnered</td>\n",
       "      <td>4</td>\n",
       "      <td>3</td>\n",
       "      <td>30699</td>\n",
       "      <td>66</td>\n",
       "      <td>1500</td>\n",
       "      <td>Average</td>\n",
       "      <td>Average</td>\n",
       "    </tr>\n",
       "    <tr>\n",
       "      <th>3</th>\n",
       "      <td>KP281</td>\n",
       "      <td>19</td>\n",
       "      <td>Male</td>\n",
       "      <td>12</td>\n",
       "      <td>Single</td>\n",
       "      <td>3</td>\n",
       "      <td>3</td>\n",
       "      <td>32973</td>\n",
       "      <td>85</td>\n",
       "      <td>1500</td>\n",
       "      <td>Average</td>\n",
       "      <td>Low</td>\n",
       "    </tr>\n",
       "    <tr>\n",
       "      <th>4</th>\n",
       "      <td>KP281</td>\n",
       "      <td>20</td>\n",
       "      <td>Male</td>\n",
       "      <td>13</td>\n",
       "      <td>Partnered</td>\n",
       "      <td>4</td>\n",
       "      <td>2</td>\n",
       "      <td>35247</td>\n",
       "      <td>47</td>\n",
       "      <td>1500</td>\n",
       "      <td>Low</td>\n",
       "      <td>Average</td>\n",
       "    </tr>\n",
       "    <tr>\n",
       "      <th>...</th>\n",
       "      <td>...</td>\n",
       "      <td>...</td>\n",
       "      <td>...</td>\n",
       "      <td>...</td>\n",
       "      <td>...</td>\n",
       "      <td>...</td>\n",
       "      <td>...</td>\n",
       "      <td>...</td>\n",
       "      <td>...</td>\n",
       "      <td>...</td>\n",
       "      <td>...</td>\n",
       "      <td>...</td>\n",
       "    </tr>\n",
       "    <tr>\n",
       "      <th>175</th>\n",
       "      <td>KP781</td>\n",
       "      <td>40</td>\n",
       "      <td>Male</td>\n",
       "      <td>21</td>\n",
       "      <td>Single</td>\n",
       "      <td>6</td>\n",
       "      <td>5</td>\n",
       "      <td>83416</td>\n",
       "      <td>200</td>\n",
       "      <td>2500</td>\n",
       "      <td>High</td>\n",
       "      <td>High</td>\n",
       "    </tr>\n",
       "    <tr>\n",
       "      <th>176</th>\n",
       "      <td>KP781</td>\n",
       "      <td>42</td>\n",
       "      <td>Male</td>\n",
       "      <td>18</td>\n",
       "      <td>Single</td>\n",
       "      <td>5</td>\n",
       "      <td>4</td>\n",
       "      <td>89641</td>\n",
       "      <td>200</td>\n",
       "      <td>2500</td>\n",
       "      <td>Average</td>\n",
       "      <td>Average</td>\n",
       "    </tr>\n",
       "    <tr>\n",
       "      <th>177</th>\n",
       "      <td>KP781</td>\n",
       "      <td>45</td>\n",
       "      <td>Male</td>\n",
       "      <td>16</td>\n",
       "      <td>Single</td>\n",
       "      <td>5</td>\n",
       "      <td>5</td>\n",
       "      <td>90886</td>\n",
       "      <td>160</td>\n",
       "      <td>2500</td>\n",
       "      <td>High</td>\n",
       "      <td>Average</td>\n",
       "    </tr>\n",
       "    <tr>\n",
       "      <th>178</th>\n",
       "      <td>KP781</td>\n",
       "      <td>47</td>\n",
       "      <td>Male</td>\n",
       "      <td>18</td>\n",
       "      <td>Partnered</td>\n",
       "      <td>4</td>\n",
       "      <td>5</td>\n",
       "      <td>104581</td>\n",
       "      <td>120</td>\n",
       "      <td>2500</td>\n",
       "      <td>High</td>\n",
       "      <td>Average</td>\n",
       "    </tr>\n",
       "    <tr>\n",
       "      <th>179</th>\n",
       "      <td>KP781</td>\n",
       "      <td>48</td>\n",
       "      <td>Male</td>\n",
       "      <td>18</td>\n",
       "      <td>Partnered</td>\n",
       "      <td>4</td>\n",
       "      <td>5</td>\n",
       "      <td>95508</td>\n",
       "      <td>180</td>\n",
       "      <td>2500</td>\n",
       "      <td>High</td>\n",
       "      <td>Average</td>\n",
       "    </tr>\n",
       "  </tbody>\n",
       "</table>\n",
       "<p>180 rows × 12 columns</p>\n",
       "</div>"
      ],
      "text/plain": [
       "    Product  Age  Gender  Education MaritalStatus  Usage  Fitness  Income  \\\n",
       "0     KP281   18    Male         14        Single      3        4   29562   \n",
       "1     KP281   19    Male         15        Single      2        3   31836   \n",
       "2     KP281   19  Female         14     Partnered      4        3   30699   \n",
       "3     KP281   19    Male         12        Single      3        3   32973   \n",
       "4     KP281   20    Male         13     Partnered      4        2   35247   \n",
       "..      ...  ...     ...        ...           ...    ...      ...     ...   \n",
       "175   KP781   40    Male         21        Single      6        5   83416   \n",
       "176   KP781   42    Male         18        Single      5        4   89641   \n",
       "177   KP781   45    Male         16        Single      5        5   90886   \n",
       "178   KP781   47    Male         18     Partnered      4        5  104581   \n",
       "179   KP781   48    Male         18     Partnered      4        5   95508   \n",
       "\n",
       "     Miles  Selling_Price C_Fitness  C_Usage  \n",
       "0      112           1500   Average      Low  \n",
       "1       75           1500   Average      Low  \n",
       "2       66           1500   Average  Average  \n",
       "3       85           1500   Average      Low  \n",
       "4       47           1500       Low  Average  \n",
       "..     ...            ...       ...      ...  \n",
       "175    200           2500      High     High  \n",
       "176    200           2500   Average  Average  \n",
       "177    160           2500      High  Average  \n",
       "178    120           2500      High  Average  \n",
       "179    180           2500      High  Average  \n",
       "\n",
       "[180 rows x 12 columns]"
      ]
     },
     "execution_count": 150,
     "metadata": {},
     "output_type": "execute_result"
    }
   ],
   "source": [
    "aerofit"
   ]
  },
  {
   "cell_type": "code",
   "execution_count": null,
   "id": "4227e385",
   "metadata": {},
   "outputs": [],
   "source": [
    "male_prob = aerofit[aerofit[\"Gender\"] == \"Male\"]"
   ]
  },
  {
   "cell_type": "code",
   "execution_count": 151,
   "id": "fa5278b2",
   "metadata": {},
   "outputs": [
    {
     "data": {
      "image/png": "[encoded data removed]",
      "text/plain": [
       "<Figure size 640x480 with 1 Axes>"
      ]
     },
     "metadata": {},
     "output_type": "display_data"
    }
   ],
   "source": [
    "sns.countplot(data = aerofit,x = \"Product\",hue = \"Gender\",palette = \"magma\")\n",
    "plt.show()"
   ]
  },
  {
   "cell_type": "markdown",
   "id": "433f4c1a",
   "metadata": {},
   "source": [
    "**Insights :**\n",
    "    \n",
    "1. There are Equal number of male and female customers in the product KP281.\n",
    "\n",
    "2. Almost equal number of male and female customers are in product KP481.\n",
    "\n",
    "3. Lower number of female customers are in the product KP781 when compared to male."
   ]
  },
  {
   "cell_type": "code",
   "execution_count": 152,
   "id": "1196f255",
   "metadata": {},
   "outputs": [
    {
     "data": {
      "image/png": "[encoded data removed]",
      "text/plain": [
       "<Figure size 640x480 with 1 Axes>"
      ]
     },
     "metadata": {},
     "output_type": "display_data"
    }
   ],
   "source": [
    "sns.countplot(data = aerofit,x = \"Product\",hue = \"MaritalStatus\",palette = \"magma\")\n",
    "plt.show()"
   ]
  },
  {
   "cell_type": "markdown",
   "id": "7c88bb63",
   "metadata": {},
   "source": [
    "**Insights :**\n",
    "\n",
    "Partnered Customers are more in number in all the Three products compared to single."
   ]
  },
  {
   "cell_type": "code",
   "execution_count": 153,
   "id": "ee5444bb",
   "metadata": {},
   "outputs": [
    {
     "data": {
      "image/png": "[encoded data removed]",
      "text/plain": [
       "<Figure size 640x480 with 1 Axes>"
      ]
     },
     "metadata": {},
     "output_type": "display_data"
    }
   ],
   "source": [
    "sns.boxplot(data = aerofit,x = \"Product\",y = \"Age\")\n",
    "plt.show()"
   ]
  },
  {
   "cell_type": "markdown",
   "id": "a243f83e",
   "metadata": {},
   "source": [
    "**Insights :**\n",
    "\n",
    "1. Almost Same mean values in all the ages in all the products.\n",
    "\n",
    "2. When compared to the product KP281 and KP481, KP781 have more number of Outliers."
   ]
  },
  {
   "cell_type": "code",
   "execution_count": 154,
   "id": "05b569df",
   "metadata": {},
   "outputs": [
    {
     "data": {
      "image/png": "[encoded data removed]",
      "text/plain": [
       "<Figure size 640x480 with 1 Axes>"
      ]
     },
     "metadata": {},
     "output_type": "display_data"
    }
   ],
   "source": [
    "sns.boxplot(data = aerofit,x = \"Product\",y = \"Education\")\n",
    "plt.show()"
   ]
  },
  {
   "cell_type": "markdown",
   "id": "25c82cc4",
   "metadata": {},
   "source": [
    "**Insights :**\n",
    "\n",
    "1. Same distribution in education for product KP281 and KP481.\n",
    "2. Product KP781 are the hightest in distribution."
   ]
  },
  {
   "cell_type": "code",
   "execution_count": 155,
   "id": "6f132695",
   "metadata": {},
   "outputs": [
    {
     "data": {
      "image/png": "[encoded data removed]",
      "text/plain": [
       "<Figure size 640x480 with 1 Axes>"
      ]
     },
     "metadata": {},
     "output_type": "display_data"
    }
   ],
   "source": [
    "sns.boxplot(data = aerofit,x = \"Product\",y = \"Income\")\n",
    "plt.show()"
   ]
  },
  {
   "cell_type": "markdown",
   "id": "60a4c8a5",
   "metadata": {},
   "source": [
    "**Insights :**\n",
    "    \n",
    "1. The Average Income for the KP281 and KP481 product is almost similar.\n",
    "\n",
    "2. The Highest in number is KP781 customers having more incomes. "
   ]
  },
  {
   "cell_type": "code",
   "execution_count": 156,
   "id": "23d5d45e",
   "metadata": {},
   "outputs": [
    {
     "data": {
      "image/png": "[encoded data removed]",
      "text/plain": [
       "<Figure size 640x480 with 1 Axes>"
      ]
     },
     "metadata": {},
     "output_type": "display_data"
    }
   ],
   "source": [
    "sns.boxplot(data = aerofit,x = \"Product\",y = \"Miles\")\n",
    "plt.show()"
   ]
  },
  {
   "cell_type": "markdown",
   "id": "62db0f4c",
   "metadata": {},
   "source": [
    "**Insights :**\n",
    "    \n",
    "1. The Average Miles for the KP281 and KP481 product is almost similar.\n",
    "\n",
    "2. The Highest in number is KP781 customers having more Miles. \n",
    "\n",
    "3. KP281 having more outliers followed by KP481 and KP781."
   ]
  },
  {
   "cell_type": "code",
   "execution_count": 157,
   "id": "09f2b9a5",
   "metadata": {},
   "outputs": [
    {
     "data": {
      "image/png": "[encoded data removed]",
      "text/plain": [
       "<Figure size 640x480 with 1 Axes>"
      ]
     },
     "metadata": {},
     "output_type": "display_data"
    }
   ],
   "source": [
    "sns.stripplot(data = aerofit,y = \"Age\",x = \"Education\",hue = \"Product\",palette = \"magma\")\n",
    "plt.show()"
   ]
  },
  {
   "cell_type": "markdown",
   "id": "8879c6ca",
   "metadata": {},
   "source": [
    "**Insights :**\n",
    "\n",
    "More number of Age customers are in the Education 16 and then 18 and 14."
   ]
  },
  {
   "cell_type": "code",
   "execution_count": 158,
   "id": "0f23be2d",
   "metadata": {},
   "outputs": [
    {
     "data": {
      "text/plain": [
       "MaritalStatus\n",
       "Partnered    55763.000000\n",
       "Single       50724.424658\n",
       "Name: Income, dtype: float64"
      ]
     },
     "execution_count": 158,
     "metadata": {},
     "output_type": "execute_result"
    }
   ],
   "source": [
    "aerofit_income_status_relation = aerofit.groupby(\"MaritalStatus\")[\"Income\"].mean()\n",
    "aerofit_income_status_relation"
   ]
  },
  {
   "cell_type": "markdown",
   "id": "536a7cd9",
   "metadata": {},
   "source": [
    "**Insights :**\n",
    "    \n",
    "1. Partnered Customers having the higher income average.\n",
    "\n",
    "2. Single Customers having the higher income average."
   ]
  },
  {
   "cell_type": "code",
   "execution_count": 159,
   "id": "667190a7",
   "metadata": {},
   "outputs": [
    {
     "data": {
      "image/png": "[encoded data removed]",
      "text/plain": [
       "<Figure size 640x480 with 1 Axes>"
      ]
     },
     "metadata": {},
     "output_type": "display_data"
    }
   ],
   "source": [
    "sns.barplot(data = aerofit, x = \"MaritalStatus\",y = \"Income\",estimator = \"mean\")\n",
    "plt.show()"
   ]
  },
  {
   "cell_type": "markdown",
   "id": "511d1133",
   "metadata": {},
   "source": [
    "**Insights :**\n",
    "\n",
    "The Average income for the partnered customers are higher when compared to the single."
   ]
  },
  {
   "cell_type": "code",
   "execution_count": 160,
   "id": "6f6b511a",
   "metadata": {},
   "outputs": [
    {
     "data": {
      "text/html": [
       "<div>\n",
       "<style scoped>\n",
       "    .dataframe tbody tr th:only-of-type {\n",
       "        vertical-align: middle;\n",
       "    }\n",
       "\n",
       "    .dataframe tbody tr th {\n",
       "        vertical-align: top;\n",
       "    }\n",
       "\n",
       "    .dataframe thead th {\n",
       "        text-align: right;\n",
       "    }\n",
       "</style>\n",
       "<table border=\"1\" class=\"dataframe\">\n",
       "  <thead>\n",
       "    <tr style=\"text-align: right;\">\n",
       "      <th></th>\n",
       "      <th>Age</th>\n",
       "      <th>Income</th>\n",
       "    </tr>\n",
       "  </thead>\n",
       "  <tbody>\n",
       "    <tr>\n",
       "      <th>24</th>\n",
       "      <td>42</td>\n",
       "      <td>89641.00</td>\n",
       "    </tr>\n",
       "    <tr>\n",
       "      <th>29</th>\n",
       "      <td>47</td>\n",
       "      <td>80715.50</td>\n",
       "    </tr>\n",
       "    <tr>\n",
       "      <th>30</th>\n",
       "      <td>48</td>\n",
       "      <td>76747.50</td>\n",
       "    </tr>\n",
       "    <tr>\n",
       "      <th>27</th>\n",
       "      <td>45</td>\n",
       "      <td>72731.00</td>\n",
       "    </tr>\n",
       "    <tr>\n",
       "      <th>12</th>\n",
       "      <td>30</td>\n",
       "      <td>71374.29</td>\n",
       "    </tr>\n",
       "  </tbody>\n",
       "</table>\n",
       "</div>"
      ],
      "text/plain": [
       "    Age    Income\n",
       "24   42  89641.00\n",
       "29   47  80715.50\n",
       "30   48  76747.50\n",
       "27   45  72731.00\n",
       "12   30  71374.29"
      ]
     },
     "execution_count": 160,
     "metadata": {},
     "output_type": "execute_result"
    }
   ],
   "source": [
    "aerofit_income_age_relation = aerofit.groupby(\"Age\")[\"Income\"].mean().to_frame().round(2).reset_index()\n",
    "aerofit_income_age_relation.sort_values(by = \"Income\",ascending = False,inplace = True)\n",
    "aerofit_income_age_relation.head()"
   ]
  },
  {
   "cell_type": "code",
   "execution_count": 161,
   "id": "d995eb20",
   "metadata": {},
   "outputs": [
    {
     "data": {
      "text/html": [
       "<div>\n",
       "<style scoped>\n",
       "    .dataframe tbody tr th:only-of-type {\n",
       "        vertical-align: middle;\n",
       "    }\n",
       "\n",
       "    .dataframe tbody tr th {\n",
       "        vertical-align: top;\n",
       "    }\n",
       "\n",
       "    .dataframe thead th {\n",
       "        text-align: right;\n",
       "    }\n",
       "</style>\n",
       "<table border=\"1\" class=\"dataframe\">\n",
       "  <thead>\n",
       "    <tr style=\"text-align: right;\">\n",
       "      <th></th>\n",
       "      <th>Age</th>\n",
       "      <th>Income</th>\n",
       "    </tr>\n",
       "  </thead>\n",
       "  <tbody>\n",
       "    <tr>\n",
       "      <th>4</th>\n",
       "      <td>22</td>\n",
       "      <td>42179.57</td>\n",
       "    </tr>\n",
       "    <tr>\n",
       "      <th>2</th>\n",
       "      <td>20</td>\n",
       "      <td>34792.20</td>\n",
       "    </tr>\n",
       "    <tr>\n",
       "      <th>3</th>\n",
       "      <td>21</td>\n",
       "      <td>34597.29</td>\n",
       "    </tr>\n",
       "    <tr>\n",
       "      <th>1</th>\n",
       "      <td>19</td>\n",
       "      <td>31836.00</td>\n",
       "    </tr>\n",
       "    <tr>\n",
       "      <th>0</th>\n",
       "      <td>18</td>\n",
       "      <td>29562.00</td>\n",
       "    </tr>\n",
       "  </tbody>\n",
       "</table>\n",
       "</div>"
      ],
      "text/plain": [
       "   Age    Income\n",
       "4   22  42179.57\n",
       "2   20  34792.20\n",
       "3   21  34597.29\n",
       "1   19  31836.00\n",
       "0   18  29562.00"
      ]
     },
     "execution_count": 161,
     "metadata": {},
     "output_type": "execute_result"
    }
   ],
   "source": [
    "aerofit_income_age_relation.tail()"
   ]
  },
  {
   "cell_type": "code",
   "execution_count": 162,
   "id": "aaa2be54",
   "metadata": {},
   "outputs": [
    {
     "data": {
      "image/png": "[encoded data removed]",
      "text/plain": [
       "<Figure size 640x480 with 1 Axes>"
      ]
     },
     "metadata": {},
     "output_type": "display_data"
    }
   ],
   "source": [
    "sns.lineplot(data = aerofit_income_age_relation,x = \"Age\",y = \"Income\",marker = \"o\")\n",
    "plt.show()"
   ]
  },
  {
   "cell_type": "markdown",
   "id": "b8834630",
   "metadata": {},
   "source": [
    "**Insights :**\n",
    "\n",
    "1. Age Group 42 having the higher income average and followed by 47.\n",
    "2. Age Group 18 having the lower income average."
   ]
  },
  {
   "cell_type": "code",
   "execution_count": 163,
   "id": "ecc71ee8",
   "metadata": {},
   "outputs": [
    {
     "data": {
      "text/html": [
       "<div>\n",
       "<style scoped>\n",
       "    .dataframe tbody tr th:only-of-type {\n",
       "        vertical-align: middle;\n",
       "    }\n",
       "\n",
       "    .dataframe tbody tr th {\n",
       "        vertical-align: top;\n",
       "    }\n",
       "\n",
       "    .dataframe thead th {\n",
       "        text-align: right;\n",
       "    }\n",
       "</style>\n",
       "<table border=\"1\" class=\"dataframe\">\n",
       "  <thead>\n",
       "    <tr style=\"text-align: right;\">\n",
       "      <th></th>\n",
       "      <th>Age</th>\n",
       "      <th>Miles</th>\n",
       "    </tr>\n",
       "  </thead>\n",
       "  <tbody>\n",
       "    <tr>\n",
       "      <th>24</th>\n",
       "      <td>42</td>\n",
       "      <td>200.00</td>\n",
       "    </tr>\n",
       "    <tr>\n",
       "      <th>12</th>\n",
       "      <td>30</td>\n",
       "      <td>142.29</td>\n",
       "    </tr>\n",
       "    <tr>\n",
       "      <th>21</th>\n",
       "      <td>39</td>\n",
       "      <td>132.00</td>\n",
       "    </tr>\n",
       "    <tr>\n",
       "      <th>11</th>\n",
       "      <td>29</td>\n",
       "      <td>132.00</td>\n",
       "    </tr>\n",
       "    <tr>\n",
       "      <th>30</th>\n",
       "      <td>48</td>\n",
       "      <td>122.00</td>\n",
       "    </tr>\n",
       "  </tbody>\n",
       "</table>\n",
       "</div>"
      ],
      "text/plain": [
       "    Age   Miles\n",
       "24   42  200.00\n",
       "12   30  142.29\n",
       "21   39  132.00\n",
       "11   29  132.00\n",
       "30   48  122.00"
      ]
     },
     "execution_count": 163,
     "metadata": {},
     "output_type": "execute_result"
    }
   ],
   "source": [
    "aerofit_miles_age_relation = aerofit.groupby(\"Age\")[\"Miles\"].mean().to_frame().round(2).reset_index()\n",
    "aerofit_miles_age_relation.sort_values(by = \"Miles\",ascending = False,inplace = True)\n",
    "aerofit_miles_age_relation.head()"
   ]
  },
  {
   "cell_type": "code",
   "execution_count": 164,
   "id": "672f0b15",
   "metadata": {},
   "outputs": [
    {
     "data": {
      "image/png": "[encoded data removed]",
      "text/plain": [
       "<Figure size 640x480 with 1 Axes>"
      ]
     },
     "metadata": {},
     "output_type": "display_data"
    }
   ],
   "source": [
    "sns.scatterplot(data = aerofit_miles_age_relation,x = \"Age\",y = \"Miles\")\n",
    "plt.show()"
   ]
  },
  {
   "cell_type": "markdown",
   "id": "f004e2ba",
   "metadata": {},
   "source": [
    "**Insights :**\n",
    "\n",
    "1.Age 42 having the higher miles average.\n",
    "\n",
    "2.This might be the Outlier."
   ]
  },
  {
   "cell_type": "code",
   "execution_count": 165,
   "id": "bc877459",
   "metadata": {},
   "outputs": [
    {
     "data": {
      "text/plain": [
       "<Axes: xlabel='Age', ylabel='C_Usage'>"
      ]
     },
     "execution_count": 165,
     "metadata": {},
     "output_type": "execute_result"
    },
    {
     "data": {
      "image/png": "[encoded data removed]",
      "text/plain": [
       "<Figure size 640x480 with 1 Axes>"
      ]
     },
     "metadata": {},
     "output_type": "display_data"
    }
   ],
   "source": [
    "sns.boxplot(data = aerofit,x = \"Age\",y = \"C_Usage\")"
   ]
  },
  {
   "cell_type": "markdown",
   "id": "39f80cf9",
   "metadata": {},
   "source": [
    "### Multivariate Analysis :- "
   ]
  },
  {
   "cell_type": "code",
   "execution_count": 166,
   "id": "3d0c6923",
   "metadata": {},
   "outputs": [
    {
     "data": {
      "text/html": [
       "<div>\n",
       "<style scoped>\n",
       "    .dataframe tbody tr th:only-of-type {\n",
       "        vertical-align: middle;\n",
       "    }\n",
       "\n",
       "    .dataframe tbody tr th {\n",
       "        vertical-align: top;\n",
       "    }\n",
       "\n",
       "    .dataframe thead th {\n",
       "        text-align: right;\n",
       "    }\n",
       "</style>\n",
       "<table border=\"1\" class=\"dataframe\">\n",
       "  <thead>\n",
       "    <tr style=\"text-align: right;\">\n",
       "      <th></th>\n",
       "      <th>Age</th>\n",
       "      <th>Education</th>\n",
       "      <th>Usage</th>\n",
       "      <th>Fitness</th>\n",
       "      <th>Income</th>\n",
       "      <th>Miles</th>\n",
       "      <th>Selling_Price</th>\n",
       "    </tr>\n",
       "  </thead>\n",
       "  <tbody>\n",
       "    <tr>\n",
       "      <th>Age</th>\n",
       "      <td>1.000000</td>\n",
       "      <td>0.280496</td>\n",
       "      <td>0.015064</td>\n",
       "      <td>0.061105</td>\n",
       "      <td>0.513414</td>\n",
       "      <td>0.036618</td>\n",
       "      <td>0.029263</td>\n",
       "    </tr>\n",
       "    <tr>\n",
       "      <th>Education</th>\n",
       "      <td>0.280496</td>\n",
       "      <td>1.000000</td>\n",
       "      <td>0.395155</td>\n",
       "      <td>0.410581</td>\n",
       "      <td>0.625827</td>\n",
       "      <td>0.307284</td>\n",
       "      <td>0.563463</td>\n",
       "    </tr>\n",
       "    <tr>\n",
       "      <th>Usage</th>\n",
       "      <td>0.015064</td>\n",
       "      <td>0.395155</td>\n",
       "      <td>1.000000</td>\n",
       "      <td>0.668606</td>\n",
       "      <td>0.519537</td>\n",
       "      <td>0.759130</td>\n",
       "      <td>0.623124</td>\n",
       "    </tr>\n",
       "    <tr>\n",
       "      <th>Fitness</th>\n",
       "      <td>0.061105</td>\n",
       "      <td>0.410581</td>\n",
       "      <td>0.668606</td>\n",
       "      <td>1.000000</td>\n",
       "      <td>0.535005</td>\n",
       "      <td>0.785702</td>\n",
       "      <td>0.696616</td>\n",
       "    </tr>\n",
       "    <tr>\n",
       "      <th>Income</th>\n",
       "      <td>0.513414</td>\n",
       "      <td>0.625827</td>\n",
       "      <td>0.519537</td>\n",
       "      <td>0.535005</td>\n",
       "      <td>1.000000</td>\n",
       "      <td>0.543473</td>\n",
       "      <td>0.695847</td>\n",
       "    </tr>\n",
       "    <tr>\n",
       "      <th>Miles</th>\n",
       "      <td>0.036618</td>\n",
       "      <td>0.307284</td>\n",
       "      <td>0.759130</td>\n",
       "      <td>0.785702</td>\n",
       "      <td>0.543473</td>\n",
       "      <td>1.000000</td>\n",
       "      <td>0.643923</td>\n",
       "    </tr>\n",
       "    <tr>\n",
       "      <th>Selling_Price</th>\n",
       "      <td>0.029263</td>\n",
       "      <td>0.563463</td>\n",
       "      <td>0.623124</td>\n",
       "      <td>0.696616</td>\n",
       "      <td>0.695847</td>\n",
       "      <td>0.643923</td>\n",
       "      <td>1.000000</td>\n",
       "    </tr>\n",
       "  </tbody>\n",
       "</table>\n",
       "</div>"
      ],
      "text/plain": [
       "                    Age  Education     Usage   Fitness    Income     Miles  \\\n",
       "Age            1.000000   0.280496  0.015064  0.061105  0.513414  0.036618   \n",
       "Education      0.280496   1.000000  0.395155  0.410581  0.625827  0.307284   \n",
       "Usage          0.015064   0.395155  1.000000  0.668606  0.519537  0.759130   \n",
       "Fitness        0.061105   0.410581  0.668606  1.000000  0.535005  0.785702   \n",
       "Income         0.513414   0.625827  0.519537  0.535005  1.000000  0.543473   \n",
       "Miles          0.036618   0.307284  0.759130  0.785702  0.543473  1.000000   \n",
       "Selling_Price  0.029263   0.563463  0.623124  0.696616  0.695847  0.643923   \n",
       "\n",
       "               Selling_Price  \n",
       "Age                 0.029263  \n",
       "Education           0.563463  \n",
       "Usage               0.623124  \n",
       "Fitness             0.696616  \n",
       "Income              0.695847  \n",
       "Miles               0.643923  \n",
       "Selling_Price       1.000000  "
      ]
     },
     "execution_count": 166,
     "metadata": {},
     "output_type": "execute_result"
    }
   ],
   "source": [
    "corr = aerofit.corr(numeric_only  = True)\n",
    "corr"
   ]
  },
  {
   "cell_type": "code",
   "execution_count": 167,
   "id": "1c1d98e4",
   "metadata": {},
   "outputs": [
    {
     "data": {
      "image/png": "[encoded data removed]",
      "text/plain": [
       "<Figure size 640x480 with 2 Axes>"
      ]
     },
     "metadata": {},
     "output_type": "display_data"
    }
   ],
   "source": [
    "sns.heatmap(data = corr,annot = True)\n",
    "plt.show()"
   ]
  },
  {
   "cell_type": "markdown",
   "id": "b98280fd",
   "metadata": {},
   "source": [
    "**Insight :**\n",
    "\n",
    "There is no strong correlation between these features."
   ]
  },
  {
   "cell_type": "markdown",
   "id": "111e0a38",
   "metadata": {},
   "source": [
    "### Marginal Probability"
   ]
  },
  {
   "cell_type": "code",
   "execution_count": 184,
   "id": "1e0d9589",
   "metadata": {},
   "outputs": [
    {
     "data": {
      "text/html": [
       "<div>\n",
       "<style scoped>\n",
       "    .dataframe tbody tr th:only-of-type {\n",
       "        vertical-align: middle;\n",
       "    }\n",
       "\n",
       "    .dataframe tbody tr th {\n",
       "        vertical-align: top;\n",
       "    }\n",
       "\n",
       "    .dataframe thead th {\n",
       "        text-align: right;\n",
       "    }\n",
       "</style>\n",
       "<table border=\"1\" class=\"dataframe\">\n",
       "  <thead>\n",
       "    <tr style=\"text-align: right;\">\n",
       "      <th>col_0</th>\n",
       "      <th>Product</th>\n",
       "      <th>Probability %</th>\n",
       "    </tr>\n",
       "  </thead>\n",
       "  <tbody>\n",
       "    <tr>\n",
       "      <th>0</th>\n",
       "      <td>KP281</td>\n",
       "      <td>44.444444</td>\n",
       "    </tr>\n",
       "    <tr>\n",
       "      <th>1</th>\n",
       "      <td>KP481</td>\n",
       "      <td>33.333333</td>\n",
       "    </tr>\n",
       "    <tr>\n",
       "      <th>2</th>\n",
       "      <td>KP781</td>\n",
       "      <td>22.222222</td>\n",
       "    </tr>\n",
       "  </tbody>\n",
       "</table>\n",
       "</div>"
      ],
      "text/plain": [
       "col_0 Product  Probability %\n",
       "0       KP281      44.444444\n",
       "1       KP481      33.333333\n",
       "2       KP781      22.222222"
      ]
     },
     "execution_count": 184,
     "metadata": {},
     "output_type": "execute_result"
    }
   ],
   "source": [
    "cross_tab = pd.crosstab(index=aerofit['Product'], columns='count')\n",
    "marginal_prob = cross_tab / cross_tab.sum() * 100\n",
    "marginal_probs = pd.DataFrame(marginal_prob).reset_index()\n",
    "marginal_probs.rename(columns = {\"count\":\"Probability %\"},inplace = True)\n",
    "marginal_probs"
   ]
  },
  {
   "cell_type": "markdown",
   "id": "d5af55cc",
   "metadata": {},
   "source": [
    "**Insights :**\n",
    "    \n",
    "The Marginal Probability for the Product KP281 has the Highest when compared to the products KP481 and KP781."
   ]
  },
  {
   "cell_type": "markdown",
   "id": "f0f582bb",
   "metadata": {},
   "source": [
    "### Conditional and Marginal Probabilities :-"
   ]
  },
  {
   "cell_type": "code",
   "execution_count": 198,
   "id": "51c6e967",
   "metadata": {},
   "outputs": [
    {
     "name": "stdout",
     "output_type": "stream",
     "text": [
      "Conditional Probability:\n",
      "Product      KP281      KP481      KP781\n",
      "Gender                                  \n",
      "Female   52.631579  38.157895   9.210526\n",
      "Male     38.461538  29.807692  31.730769\n",
      "\n",
      "Marginal Probability for Gender:\n",
      "Product      KP281      KP481      KP781\n",
      "Gender                                  \n",
      "Female   22.222222  16.111111   3.888889\n",
      "Male     22.222222  17.222222  18.333333\n",
      "\n",
      "Marginal Probability for Product:\n",
      "Product\n",
      "KP281    91.093117\n",
      "KP481    67.965587\n",
      "KP781    40.941296\n",
      "dtype: float64\n"
     ]
    }
   ],
   "source": [
    "cross_tab = pd.crosstab(index=aerofit['Gender'], columns=aerofit['Product'])\n",
    "conditional_prob = cross_tab.div(cross_tab.sum(axis=1), axis=0)*100\n",
    "marginal_gender = cross_tab.div(cross_tab.sum().sum())*100\n",
    "marginal_product = cross_tab.div(cross_tab.sum(axis=1), axis=0).sum()*100\n",
    "\n",
    "# Display the results\n",
    "print(\"Conditional Probability:\")\n",
    "print(conditional_prob)\n",
    "print(\"\\nMarginal Probability for Gender:\")\n",
    "print(marginal_gender)\n",
    "print(\"\\nMarginal Probability for Product:\")\n",
    "print(marginal_product)"
   ]
  },
  {
   "cell_type": "markdown",
   "id": "4958706e",
   "metadata": {},
   "source": [
    "# Actionable Sights :-"
   ]
  },
  {
   "cell_type": "markdown",
   "id": "bbe5d876",
   "metadata": {},
   "source": [
    "1.Product KP281 has the highest selling point compared to KP781 because KP781 is only affordable for high-income customers. However, by elaborating on the benefits and features of KP781, we can potentially convert some low and middle-income customers into buyers.\n",
    "\n",
    "2.Male customers outnumber female customers. We can organize a campaign specifically targeting females to provide more information about fitness and exercise, aiming to increase their participation of buying more products.\n",
    "\n",
    "3.Partnered are higher in percentage of buying products when compared to singles.To increase their sales,we can give Offer special promotions, discounts, or loyalty rewards tailored specifically to single customers. This not only incentivizes purchases but also makes them feel appreciated and valued by your brand.\n",
    "\n",
    "4.The Usage of these products were very low.To increase their usage by giving Offer product demonstrations or free trials for consumers to experience the product firsthand, boosting confidence and encouraging usage. Gather feedback from current users to identify barriers or areas for improvement, enhancing usability and relevance through continuous product development.\n",
    "\n",
    "5.More of them having average Fitness.Provide ongoing support and guidance to help individuals stay committed to their fitness goals. This could include regular check-ins, progress tracking, and access to expert advice or coaching to address any challenges or setbacks along the way.\n",
    "\n",
    "6.For Age Group 42 and 47 having Higher Income Average and 18 having lower income.To increase the sales of age group 18 by providing flexible payment plans or installment options to make purchases more manageable for individuals with limited disposable income. This can help overcome financial barriers and encourage them to make a purchase without straining their finances."
   ]
  },
  {
   "cell_type": "code",
   "execution_count": null,
   "id": "61324732",
   "metadata": {},
   "outputs": [],
   "source": []
  }
 ],
 "metadata": {
  "kernelspec": {
   "display_name": "Python 3 (ipykernel)",
   "language": "python",
   "name": "python3"
  },
  "language_info": {
   "codemirror_mode": {
    "name": "ipython",
    "version": 3
   },
   "file_extension": ".py",
   "mimetype": "text/x-python",
   "name": "python",
   "nbconvert_exporter": "python",
   "pygments_lexer": "ipython3",
   "version": "3.10.9"
  }
 },
 "nbformat": 4,
 "nbformat_minor": 5
}
